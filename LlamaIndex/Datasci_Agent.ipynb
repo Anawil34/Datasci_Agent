{
 "cells": [
  {
   "cell_type": "code",
   "execution_count": 1,
   "metadata": {},
   "outputs": [
    {
     "name": "stderr",
     "output_type": "stream",
     "text": [
      "C:\\Users\\PC\\AppData\\Local\\Packages\\PythonSoftwareFoundation.Python.3.11_qbz5n2kfra8p0\\LocalCache\\local-packages\\Python311\\site-packages\\tqdm\\auto.py:21: TqdmWarning: IProgress not found. Please update jupyter and ipywidgets. See https://ipywidgets.readthedocs.io/en/stable/user_install.html\n",
      "  from .autonotebook import tqdm as notebook_tqdm\n"
     ]
    }
   ],
   "source": [
    "import phoenix as px\n",
    "import llama_index\n",
    "from llama_index.callbacks import arize_phoenix\n",
    "from sqlalchemy import create_engine\n",
    "from glob import glob\n",
    "import os"
   ]
  },
  {
   "cell_type": "code",
   "execution_count": 2,
   "metadata": {},
   "outputs": [
    {
     "name": "stdout",
     "output_type": "stream",
     "text": [
      "🌍 To view the Phoenix app in your browser, visit http://localhost:6006/\n",
      "📖 For more information on how to use Phoenix, check out https://docs.arize.com/phoenix\n"
     ]
    }
   ],
   "source": [
    "# not work with JSON Query Engine\n",
    "px.launch_app()\n",
    "llama_index.core.set_global_handler(\"arize_phoenix\")"
   ]
  },
  {
   "cell_type": "code",
   "execution_count": 3,
   "metadata": {},
   "outputs": [],
   "source": [
    "os.environ[\"OPENAI_API_KEY\"] = \"\"\n",
    "os.environ[\"TAVILY_API_KEY\"] = \"\"\n",
    "os.environ[\"COHERE_API_KEY\"] = \"\""
   ]
  },
  {
   "cell_type": "markdown",
   "metadata": {},
   "source": [
    "# Setup DB & Vector DB"
   ]
  },
  {
   "cell_type": "code",
   "execution_count": 4,
   "metadata": {},
   "outputs": [],
   "source": [
    "engine = create_engine(f\"sqlite:///path_to/my_database_no_agg.db\")"
   ]
  },
  {
   "cell_type": "code",
   "execution_count": 5,
   "metadata": {},
   "outputs": [],
   "source": [
    "from llama_index.core import SQLDatabase\n",
    "\n",
    "sql_database = SQLDatabase(engine)"
   ]
  },
  {
   "cell_type": "code",
   "execution_count": 6,
   "metadata": {},
   "outputs": [],
   "source": [
    "from llama_index.llms.openai import OpenAI\n",
    "from llama_index.embeddings.openai import OpenAIEmbedding\n",
    "from llama_index.core import Settings\n",
    "\n",
    "Settings.llm = OpenAI(model=\"gpt-3.5-turbo\")\n",
    "Settings.embed_model = OpenAIEmbedding(model=\"text-embedding-3-small\")"
   ]
  },
  {
   "cell_type": "code",
   "execution_count": 7,
   "metadata": {},
   "outputs": [],
   "source": [
    "from llama_index.core import SimpleDirectoryReader\n",
    "\n",
    "reader = SimpleDirectoryReader(\"../../misc/data_description\")"
   ]
  },
  {
   "cell_type": "code",
   "execution_count": 8,
   "metadata": {},
   "outputs": [],
   "source": [
    "docs = reader.load_data()"
   ]
  },
  {
   "cell_type": "code",
   "execution_count": 9,
   "metadata": {},
   "outputs": [],
   "source": [
    "from llama_index.core import VectorStoreIndex, SimpleDirectoryReader\n",
    "from llama_index.core.response.pprint_utils import pprint_response"
   ]
  },
  {
   "cell_type": "code",
   "execution_count": 10,
   "metadata": {},
   "outputs": [],
   "source": [
    "index = VectorStoreIndex.from_documents(documents=docs)"
   ]
  },
  {
   "cell_type": "code",
   "execution_count": 11,
   "metadata": {},
   "outputs": [],
   "source": [
    "from llama_index.postprocessor.cohere_rerank import CohereRerank\n",
    "api_key = os.environ[\"COHERE_API_KEY\"]\n",
    "cohere_rerank = CohereRerank(api_key=api_key, top_n=2)"
   ]
  },
  {
   "cell_type": "code",
   "execution_count": 12,
   "metadata": {},
   "outputs": [],
   "source": [
    "vector_engine = index.as_query_engine(\n",
    "    similarity_top_k=3,\n",
    "    # node_postprocessors=[cohere_rerank],\n",
    ")\n"
   ]
  },
  {
   "cell_type": "markdown",
   "metadata": {},
   "source": [
    "# **Pandas Query Engine**"
   ]
  },
  {
   "cell_type": "code",
   "execution_count": 13,
   "metadata": {},
   "outputs": [],
   "source": [
    "import json\n",
    "from typing import Sequence, List\n",
    "\n",
    "from llama_index.llms.openai import OpenAI\n",
    "from llama_index.core.llms import ChatMessage\n",
    "from llama_index.core.tools import BaseTool, FunctionTool\n",
    "from openai.types.chat import ChatCompletionMessageToolCall\n",
    "\n",
    "import nest_asyncio\n",
    "\n",
    "nest_asyncio.apply()\n",
    "\n",
    "from llama_index.core.query_engine import CustomQueryEngine\n",
    "from llama_index.core.retrievers import BaseRetriever\n",
    "from llama_index.core import get_response_synthesizer\n",
    "from llama_index.core.response_synthesizers import BaseSynthesizer\n",
    "\n",
    "\n",
    "from llama_index.core import PromptTemplate\n",
    "\n",
    "import pandas as pd\n",
    "import matplotlib.pyplot as plt\n",
    "\n",
    "import re"
   ]
  },
  {
   "cell_type": "code",
   "execution_count": 14,
   "metadata": {},
   "outputs": [
    {
     "data": {
      "text/html": [
       "<div>\n",
       "<style scoped>\n",
       "    .dataframe tbody tr th:only-of-type {\n",
       "        vertical-align: middle;\n",
       "    }\n",
       "\n",
       "    .dataframe tbody tr th {\n",
       "        vertical-align: top;\n",
       "    }\n",
       "\n",
       "    .dataframe thead th {\n",
       "        text-align: right;\n",
       "    }\n",
       "</style>\n",
       "<table border=\"1\" class=\"dataframe\">\n",
       "  <thead>\n",
       "    <tr style=\"text-align: right;\">\n",
       "      <th></th>\n",
       "      <th>Unnamed: 0</th>\n",
       "      <th>case_id</th>\n",
       "      <th>WEEK_NUM</th>\n",
       "      <th>target</th>\n",
       "      <th>month_decision</th>\n",
       "      <th>weekday_decision</th>\n",
       "      <th>credamount_770A</th>\n",
       "      <th>applicationcnt_361L</th>\n",
       "      <th>applications30d_658L</th>\n",
       "      <th>applicationscnt_1086L</th>\n",
       "      <th>...</th>\n",
       "      <th>max_collater_valueofguarantee_876L</th>\n",
       "      <th>max_pmts_month_706T</th>\n",
       "      <th>max_pmts_year_507T</th>\n",
       "      <th>max_num_group1_12</th>\n",
       "      <th>max_num_group2_12</th>\n",
       "      <th>max_empls_employedfrom_796D</th>\n",
       "      <th>max_num_group1_14</th>\n",
       "      <th>max_num_group2_14</th>\n",
       "      <th>avg_credamount_last30d</th>\n",
       "      <th>application_trend</th>\n",
       "    </tr>\n",
       "  </thead>\n",
       "  <tbody>\n",
       "    <tr>\n",
       "      <th>0</th>\n",
       "      <td>0</td>\n",
       "      <td>0</td>\n",
       "      <td>0</td>\n",
       "      <td>0</td>\n",
       "      <td>1</td>\n",
       "      <td>4</td>\n",
       "      <td>30000.0</td>\n",
       "      <td>0.0</td>\n",
       "      <td>0.0</td>\n",
       "      <td>0.0</td>\n",
       "      <td>...</td>\n",
       "      <td>NaN</td>\n",
       "      <td>NaN</td>\n",
       "      <td>NaN</td>\n",
       "      <td>NaN</td>\n",
       "      <td>NaN</td>\n",
       "      <td>NaN</td>\n",
       "      <td>NaN</td>\n",
       "      <td>NaN</td>\n",
       "      <td>NaN</td>\n",
       "      <td>NaN</td>\n",
       "    </tr>\n",
       "    <tr>\n",
       "      <th>1</th>\n",
       "      <td>1</td>\n",
       "      <td>1</td>\n",
       "      <td>0</td>\n",
       "      <td>0</td>\n",
       "      <td>1</td>\n",
       "      <td>4</td>\n",
       "      <td>19999.8</td>\n",
       "      <td>0.0</td>\n",
       "      <td>0.0</td>\n",
       "      <td>0.0</td>\n",
       "      <td>...</td>\n",
       "      <td>NaN</td>\n",
       "      <td>NaN</td>\n",
       "      <td>NaN</td>\n",
       "      <td>NaN</td>\n",
       "      <td>NaN</td>\n",
       "      <td>NaN</td>\n",
       "      <td>NaN</td>\n",
       "      <td>NaN</td>\n",
       "      <td>NaN</td>\n",
       "      <td>0.0</td>\n",
       "    </tr>\n",
       "    <tr>\n",
       "      <th>2</th>\n",
       "      <td>2</td>\n",
       "      <td>2</td>\n",
       "      <td>0</td>\n",
       "      <td>0</td>\n",
       "      <td>1</td>\n",
       "      <td>5</td>\n",
       "      <td>78000.0</td>\n",
       "      <td>0.0</td>\n",
       "      <td>0.0</td>\n",
       "      <td>0.0</td>\n",
       "      <td>...</td>\n",
       "      <td>NaN</td>\n",
       "      <td>NaN</td>\n",
       "      <td>NaN</td>\n",
       "      <td>NaN</td>\n",
       "      <td>NaN</td>\n",
       "      <td>NaN</td>\n",
       "      <td>NaN</td>\n",
       "      <td>NaN</td>\n",
       "      <td>NaN</td>\n",
       "      <td>0.0</td>\n",
       "    </tr>\n",
       "    <tr>\n",
       "      <th>3</th>\n",
       "      <td>3</td>\n",
       "      <td>3</td>\n",
       "      <td>0</td>\n",
       "      <td>0</td>\n",
       "      <td>1</td>\n",
       "      <td>4</td>\n",
       "      <td>40000.0</td>\n",
       "      <td>0.0</td>\n",
       "      <td>1.0</td>\n",
       "      <td>0.0</td>\n",
       "      <td>...</td>\n",
       "      <td>NaN</td>\n",
       "      <td>NaN</td>\n",
       "      <td>NaN</td>\n",
       "      <td>NaN</td>\n",
       "      <td>NaN</td>\n",
       "      <td>NaN</td>\n",
       "      <td>NaN</td>\n",
       "      <td>NaN</td>\n",
       "      <td>NaN</td>\n",
       "      <td>1.0</td>\n",
       "    </tr>\n",
       "    <tr>\n",
       "      <th>4</th>\n",
       "      <td>4</td>\n",
       "      <td>4</td>\n",
       "      <td>0</td>\n",
       "      <td>1</td>\n",
       "      <td>1</td>\n",
       "      <td>5</td>\n",
       "      <td>44000.0</td>\n",
       "      <td>0.0</td>\n",
       "      <td>1.0</td>\n",
       "      <td>0.0</td>\n",
       "      <td>...</td>\n",
       "      <td>NaN</td>\n",
       "      <td>NaN</td>\n",
       "      <td>NaN</td>\n",
       "      <td>NaN</td>\n",
       "      <td>NaN</td>\n",
       "      <td>NaN</td>\n",
       "      <td>NaN</td>\n",
       "      <td>NaN</td>\n",
       "      <td>NaN</td>\n",
       "      <td>0.0</td>\n",
       "    </tr>\n",
       "    <tr>\n",
       "      <th>...</th>\n",
       "      <td>...</td>\n",
       "      <td>...</td>\n",
       "      <td>...</td>\n",
       "      <td>...</td>\n",
       "      <td>...</td>\n",
       "      <td>...</td>\n",
       "      <td>...</td>\n",
       "      <td>...</td>\n",
       "      <td>...</td>\n",
       "      <td>...</td>\n",
       "      <td>...</td>\n",
       "      <td>...</td>\n",
       "      <td>...</td>\n",
       "      <td>...</td>\n",
       "      <td>...</td>\n",
       "      <td>...</td>\n",
       "      <td>...</td>\n",
       "      <td>...</td>\n",
       "      <td>...</td>\n",
       "      <td>...</td>\n",
       "      <td>...</td>\n",
       "    </tr>\n",
       "    <tr>\n",
       "      <th>1526654</th>\n",
       "      <td>1526654</td>\n",
       "      <td>2703450</td>\n",
       "      <td>91</td>\n",
       "      <td>0</td>\n",
       "      <td>10</td>\n",
       "      <td>1</td>\n",
       "      <td>30000.0</td>\n",
       "      <td>0.0</td>\n",
       "      <td>0.0</td>\n",
       "      <td>0.0</td>\n",
       "      <td>...</td>\n",
       "      <td>0.0</td>\n",
       "      <td>12.0</td>\n",
       "      <td>2021.0</td>\n",
       "      <td>10.0</td>\n",
       "      <td>35.0</td>\n",
       "      <td>NaN</td>\n",
       "      <td>0.0</td>\n",
       "      <td>0.0</td>\n",
       "      <td>82952.870</td>\n",
       "      <td>0.0</td>\n",
       "    </tr>\n",
       "    <tr>\n",
       "      <th>1526655</th>\n",
       "      <td>1526655</td>\n",
       "      <td>2703451</td>\n",
       "      <td>91</td>\n",
       "      <td>0</td>\n",
       "      <td>10</td>\n",
       "      <td>1</td>\n",
       "      <td>100000.0</td>\n",
       "      <td>0.0</td>\n",
       "      <td>0.0</td>\n",
       "      <td>5.0</td>\n",
       "      <td>...</td>\n",
       "      <td>0.0</td>\n",
       "      <td>12.0</td>\n",
       "      <td>2021.0</td>\n",
       "      <td>3.0</td>\n",
       "      <td>23.0</td>\n",
       "      <td>NaN</td>\n",
       "      <td>0.0</td>\n",
       "      <td>0.0</td>\n",
       "      <td>79619.530</td>\n",
       "      <td>0.0</td>\n",
       "    </tr>\n",
       "    <tr>\n",
       "      <th>1526656</th>\n",
       "      <td>1526656</td>\n",
       "      <td>2703452</td>\n",
       "      <td>91</td>\n",
       "      <td>0</td>\n",
       "      <td>10</td>\n",
       "      <td>1</td>\n",
       "      <td>60000.0</td>\n",
       "      <td>0.0</td>\n",
       "      <td>0.0</td>\n",
       "      <td>0.0</td>\n",
       "      <td>...</td>\n",
       "      <td>0.0</td>\n",
       "      <td>12.0</td>\n",
       "      <td>2020.0</td>\n",
       "      <td>2.0</td>\n",
       "      <td>35.0</td>\n",
       "      <td>NaN</td>\n",
       "      <td>0.0</td>\n",
       "      <td>0.0</td>\n",
       "      <td>74952.870</td>\n",
       "      <td>0.0</td>\n",
       "    </tr>\n",
       "    <tr>\n",
       "      <th>1526657</th>\n",
       "      <td>1526657</td>\n",
       "      <td>2703453</td>\n",
       "      <td>91</td>\n",
       "      <td>0</td>\n",
       "      <td>10</td>\n",
       "      <td>1</td>\n",
       "      <td>6000.0</td>\n",
       "      <td>0.0</td>\n",
       "      <td>0.0</td>\n",
       "      <td>36.0</td>\n",
       "      <td>...</td>\n",
       "      <td>0.0</td>\n",
       "      <td>12.0</td>\n",
       "      <td>2020.0</td>\n",
       "      <td>12.0</td>\n",
       "      <td>35.0</td>\n",
       "      <td>NaN</td>\n",
       "      <td>0.0</td>\n",
       "      <td>0.0</td>\n",
       "      <td>72152.870</td>\n",
       "      <td>0.0</td>\n",
       "    </tr>\n",
       "    <tr>\n",
       "      <th>1526658</th>\n",
       "      <td>1526658</td>\n",
       "      <td>2703454</td>\n",
       "      <td>91</td>\n",
       "      <td>0</td>\n",
       "      <td>10</td>\n",
       "      <td>1</td>\n",
       "      <td>39414.0</td>\n",
       "      <td>0.0</td>\n",
       "      <td>0.0</td>\n",
       "      <td>0.0</td>\n",
       "      <td>...</td>\n",
       "      <td>176000.0</td>\n",
       "      <td>12.0</td>\n",
       "      <td>2021.0</td>\n",
       "      <td>8.0</td>\n",
       "      <td>35.0</td>\n",
       "      <td>NaN</td>\n",
       "      <td>0.0</td>\n",
       "      <td>0.0</td>\n",
       "      <td>72133.336</td>\n",
       "      <td>0.0</td>\n",
       "    </tr>\n",
       "  </tbody>\n",
       "</table>\n",
       "<p>1526659 rows × 326 columns</p>\n",
       "</div>"
      ],
      "text/plain": [
       "         Unnamed: 0  case_id  WEEK_NUM  target  month_decision  \\\n",
       "0                 0        0         0       0               1   \n",
       "1                 1        1         0       0               1   \n",
       "2                 2        2         0       0               1   \n",
       "3                 3        3         0       0               1   \n",
       "4                 4        4         0       1               1   \n",
       "...             ...      ...       ...     ...             ...   \n",
       "1526654     1526654  2703450        91       0              10   \n",
       "1526655     1526655  2703451        91       0              10   \n",
       "1526656     1526656  2703452        91       0              10   \n",
       "1526657     1526657  2703453        91       0              10   \n",
       "1526658     1526658  2703454        91       0              10   \n",
       "\n",
       "         weekday_decision  credamount_770A  applicationcnt_361L  \\\n",
       "0                       4          30000.0                  0.0   \n",
       "1                       4          19999.8                  0.0   \n",
       "2                       5          78000.0                  0.0   \n",
       "3                       4          40000.0                  0.0   \n",
       "4                       5          44000.0                  0.0   \n",
       "...                   ...              ...                  ...   \n",
       "1526654                 1          30000.0                  0.0   \n",
       "1526655                 1         100000.0                  0.0   \n",
       "1526656                 1          60000.0                  0.0   \n",
       "1526657                 1           6000.0                  0.0   \n",
       "1526658                 1          39414.0                  0.0   \n",
       "\n",
       "         applications30d_658L  applicationscnt_1086L  ...  \\\n",
       "0                         0.0                    0.0  ...   \n",
       "1                         0.0                    0.0  ...   \n",
       "2                         0.0                    0.0  ...   \n",
       "3                         1.0                    0.0  ...   \n",
       "4                         1.0                    0.0  ...   \n",
       "...                       ...                    ...  ...   \n",
       "1526654                   0.0                    0.0  ...   \n",
       "1526655                   0.0                    5.0  ...   \n",
       "1526656                   0.0                    0.0  ...   \n",
       "1526657                   0.0                   36.0  ...   \n",
       "1526658                   0.0                    0.0  ...   \n",
       "\n",
       "         max_collater_valueofguarantee_876L  max_pmts_month_706T  \\\n",
       "0                                       NaN                  NaN   \n",
       "1                                       NaN                  NaN   \n",
       "2                                       NaN                  NaN   \n",
       "3                                       NaN                  NaN   \n",
       "4                                       NaN                  NaN   \n",
       "...                                     ...                  ...   \n",
       "1526654                                 0.0                 12.0   \n",
       "1526655                                 0.0                 12.0   \n",
       "1526656                                 0.0                 12.0   \n",
       "1526657                                 0.0                 12.0   \n",
       "1526658                            176000.0                 12.0   \n",
       "\n",
       "         max_pmts_year_507T  max_num_group1_12  max_num_group2_12  \\\n",
       "0                       NaN                NaN                NaN   \n",
       "1                       NaN                NaN                NaN   \n",
       "2                       NaN                NaN                NaN   \n",
       "3                       NaN                NaN                NaN   \n",
       "4                       NaN                NaN                NaN   \n",
       "...                     ...                ...                ...   \n",
       "1526654              2021.0               10.0               35.0   \n",
       "1526655              2021.0                3.0               23.0   \n",
       "1526656              2020.0                2.0               35.0   \n",
       "1526657              2020.0               12.0               35.0   \n",
       "1526658              2021.0                8.0               35.0   \n",
       "\n",
       "         max_empls_employedfrom_796D  max_num_group1_14  max_num_group2_14  \\\n",
       "0                                NaN                NaN                NaN   \n",
       "1                                NaN                NaN                NaN   \n",
       "2                                NaN                NaN                NaN   \n",
       "3                                NaN                NaN                NaN   \n",
       "4                                NaN                NaN                NaN   \n",
       "...                              ...                ...                ...   \n",
       "1526654                          NaN                0.0                0.0   \n",
       "1526655                          NaN                0.0                0.0   \n",
       "1526656                          NaN                0.0                0.0   \n",
       "1526657                          NaN                0.0                0.0   \n",
       "1526658                          NaN                0.0                0.0   \n",
       "\n",
       "         avg_credamount_last30d  application_trend  \n",
       "0                           NaN                NaN  \n",
       "1                           NaN                0.0  \n",
       "2                           NaN                0.0  \n",
       "3                           NaN                1.0  \n",
       "4                           NaN                0.0  \n",
       "...                         ...                ...  \n",
       "1526654               82952.870                0.0  \n",
       "1526655               79619.530                0.0  \n",
       "1526656               74952.870                0.0  \n",
       "1526657               72152.870                0.0  \n",
       "1526658               72133.336                0.0  \n",
       "\n",
       "[1526659 rows x 326 columns]"
      ]
     },
     "execution_count": 14,
     "metadata": {},
     "output_type": "execute_result"
    }
   ],
   "source": [
    "df = pd.read_csv(\"path_to/df_train_dataset.csv\")\n"
   ]
  },
  {
   "cell_type": "code",
   "execution_count": 17,
   "metadata": {},
   "outputs": [],
   "source": [
    "df = df.drop(columns=\"Unnamed: 0\")"
   ]
  },
  {
   "cell_type": "code",
   "execution_count": 19,
   "metadata": {},
   "outputs": [],
   "source": [
    "llm = OpenAI(model=\"gpt-3.5-turbo\")"
   ]
  },
  {
   "cell_type": "markdown",
   "metadata": {},
   "source": [
    "# **PandasRetriever**"
   ]
  },
  {
   "cell_type": "code",
   "execution_count": 34,
   "metadata": {},
   "outputs": [],
   "source": [
    "from llama_index.core import SimpleDirectoryReader\n",
    "\n",
    "reader = SimpleDirectoryReader(\"misc/pandas_description\")\n",
    "pandas_docs = reader.load_data()\n",
    "pandas_index = VectorStoreIndex.from_documents(documents=pandas_docs)\n",
    "\n"
   ]
  },
  {
   "cell_type": "code",
   "execution_count": 35,
   "metadata": {},
   "outputs": [],
   "source": [
    "pandas_retriever = pandas_index.as_retriever(\n",
    "    similarity_top_k=2,\n",
    "    # node_postprocessors=[cohere_rerank],\n",
    ")"
   ]
  },
  {
   "cell_type": "code",
   "execution_count": 59,
   "metadata": {},
   "outputs": [],
   "source": [
    "visual_prompt = PromptTemplate(\"\"\"\n",
    "You are working with a pandas dataframe in Python. The name of the dataframe is `df`. Below is a sample rows of the df from df.head():\n",
    "\n",
    "{sample_data}\n",
    "                            \n",
    "here is the type of DataFrame (df) related:\n",
    "{col_context}\n",
    "                               \n",
    "Please follow these steps:\n",
    "1. Await the user's question or request for a specific data analysis or visualization.\n",
    "2. Analyze the user's request to determine if it can be fulfilled based on the available data. If the request is unclear or cannot be satisfied with the given data, provide a concise message indicating the issue and ask for clarification or additional information.\n",
    "3. If the request can be fulfilled, generate the necessary matplotlib code to create the requested graph. Do not include any import statements in the code. Assume that the DataFrame is already loaded and accessible using the variable name 'df'.\n",
    "4. Provide only the generated matplotlib code as your response without any additional explanations or text. Do not include import statements.\n",
    "You are now ready to assist the user with their data visualization needs based on the provided DataFrame sample.\n",
    "\"\"\")"
   ]
  },
  {
   "cell_type": "code",
   "execution_count": 60,
   "metadata": {},
   "outputs": [],
   "source": [
    "from llama_index.core.query_engine import CustomQueryEngine\n",
    "from llama_index.core.retrievers import BaseRetriever\n",
    "from llama_index.core import get_response_synthesizer\n",
    "from llama_index.core.response_synthesizers import BaseSynthesizer"
   ]
  },
  {
   "cell_type": "markdown",
   "metadata": {},
   "source": [
    "# Custom Visualizatino Engine"
   ]
  },
  {
   "cell_type": "code",
   "execution_count": 63,
   "metadata": {},
   "outputs": [],
   "source": [
    "class PandasDataVisualizationQueryEngine(CustomQueryEngine):\n",
    "\n",
    "    df: pd.DataFrame\n",
    "    llm: OpenAI\n",
    "    pandas_prompt: PromptTemplate\n",
    "    retriever: BaseRetriever\n",
    "\n",
    "    def custom_query(self, query_str: str):\n",
    "      nodes = self.retriever.retrieve(query_str)\n",
    "      col_context = \"\\n\\n\".join([n.node.get_content() for n in nodes])\n",
    "      messages = [\n",
    "      ChatMessage(\n",
    "          role=\"system\",\n",
    "          content=self.pandas_prompt.format(col_context = col_context, sample_data=df.head().to_string())\n",
    "      ),\n",
    "      ChatMessage(role=\"user\", content=query_str),\n",
    "      ]\n",
    "        \n",
    "      res = llm.chat(messages)\n",
    "\n",
    "      pattern = r'(?<=```python\\n)(.*?)(?=\\n```|```$)'\n",
    "      try:\n",
    "          code = re.search(pattern, str(res), re.DOTALL).group(1)\n",
    "          try:\n",
    "              exec(code)\n",
    "              res = code\n",
    "          except Exception as e:\n",
    "              print(f\"An error occurred while executing the code: {e}\")\n",
    "      except AttributeError:\n",
    "          print(\"No code block found in the response.\")\n",
    "\n",
    "      return str(res)"
   ]
  },
  {
   "cell_type": "code",
   "execution_count": 64,
   "metadata": {},
   "outputs": [],
   "source": [
    "visualize_engine =  PandasDataVisualizationQueryEngine(\n",
    "    df = df,\n",
    "    llm = llm,\n",
    "    pandas_prompt = visual_prompt,\n",
    "    retriever = pandas_retriever, \n",
    ")"
   ]
  },
  {
   "cell_type": "code",
   "execution_count": 65,
   "metadata": {},
   "outputs": [
    {
     "data": {
      "image/png": "[encoded data removed]",
      "text/plain": [
       "<Figure size 1000x600 with 1 Axes>"
      ]
     },
     "metadata": {},
     "output_type": "display_data"
    },
    {
     "data": {
      "text/plain": [
       "Response(response=\"import matplotlib.pyplot as plt\\n\\nplt.figure(figsize=(10, 6))\\nplt.scatter(df['max_numberofinstls_229L'], df['max_interestrate_508L'], color='b', alpha=0.5)\\nplt.title('Correlation between Number of Installments and Interest Rate')\\nplt.xlabel('Number of Installments')\\nplt.ylabel('Interest Rate')\\nplt.grid(True)\\nplt.show()\", source_nodes=[], metadata=None)"
      ]
     },
     "execution_count": 65,
     "metadata": {},
     "output_type": "execute_result"
    }
   ],
   "source": [
    "visualize_engine.query(\"Is there a correlation between the number of installments and the interest rate for credit cases?\")"
   ]
  },
  {
   "cell_type": "code",
   "execution_count": 58,
   "metadata": {},
   "outputs": [
    {
     "name": "stdout",
     "output_type": "stream",
     "text": [
      "No code block found in the response.\n"
     ]
    },
    {
     "data": {
      "text/plain": [
       "Response(response=\"assistant: plt.figure(figsize=(10, 6))\\nsns.boxplot(x='target', y='credamount_770A', data=df)\\nplt.xlabel('Target Groups')\\nplt.ylabel('Credamount_770A')\\nplt.title('Distribution of Credamount_770A across Target Groups')\\nplt.show()\", source_nodes=[], metadata=None)"
      ]
     },
     "execution_count": 58,
     "metadata": {},
     "output_type": "execute_result"
    }
   ],
   "source": [
    "visualize_engine.query(\"Are there any significant differences in `credamount_770A` between different `target` groups?\")"
   ]
  },
  {
   "cell_type": "markdown",
   "metadata": {},
   "source": [
    "# **Pandas QA**"
   ]
  },
  {
   "cell_type": "code",
   "execution_count": 41,
   "metadata": {},
   "outputs": [],
   "source": [
    "qa_prompt = PromptTemplate(\"\"\"\n",
    "You are working with a pandas dataframe in Python. The name of the dataframe is `df`. Below is a sample rows of the df from df.head():\n",
    "\n",
    "{sample_data}\n",
    "                            \n",
    "here is the type of DataFrame (df) related:\n",
    "{col_context}\n",
    "                               \n",
    "Answer the query below:\n",
    "{query_str}\n",
    "                               \n",
    "Your Answer:\n",
    "\n",
    "                               \n",
    "\"\"\")"
   ]
  },
  {
   "cell_type": "code",
   "execution_count": 42,
   "metadata": {},
   "outputs": [],
   "source": [
    "from llama_index.core.query_pipeline import QueryPipeline, InputComponent\n",
    "from llama_index.core import PromptTemplate\n",
    "\n",
    "p = QueryPipeline(verbose=True)\n",
    "p.add_modules(\n",
    "    {   \n",
    "        \"input\": InputComponent(),\n",
    "        \"retriever\": pandas_retriever,\n",
    "        \"qa_prompt\": qa_prompt,\n",
    "        \"llm\": llm,\n",
    "    }\n",
    ")\n",
    "p.add_link(\"input\", \"retriever\")\n",
    "p.add_link(\"retriever\", \"qa_prompt\", dest_key=\"col_context\")\n",
    "p.add_link(\"input\", \"qa_prompt\", dest_key=\"query_str\")\n",
    "p.add_link(\"qa_prompt\", \"llm\")\n"
   ]
  },
  {
   "cell_type": "code",
   "execution_count": 43,
   "metadata": {},
   "outputs": [],
   "source": [
    "## create graph\n",
    "from pyvis.network import Network\n",
    "from IPython.display import HTML, display\n",
    "\n",
    "net = Network(notebook=True, cdn_resources=\"in_line\", directed=True)\n",
    "net.from_nx(p.dag)\n",
    "net.save_graph(\"rag_dag.html\")\n"
   ]
  },
  {
   "cell_type": "code",
   "execution_count": 49,
   "metadata": {},
   "outputs": [
    {
     "name": "stdout",
     "output_type": "stream",
     "text": [
      "\u001b[1;3;38;2;155;135;227m> Running module input with input: \n",
      "input: modified or combined 5 features that you think Machine Learning Engineer would use to make his ML predict credit score better and tell me brief summary why you chose that feature.\n",
      "\n",
      "\u001b[0m\u001b[1;3;38;2;155;135;227m> Running module retriever with input: \n",
      "input: modified or combined 5 features that you think Machine Learning Engineer would use to make his ML predict credit score better and tell me brief summary why you chose that feature.\n",
      "\n",
      "\u001b[0m\u001b[1;3;38;2;155;135;227m> Running module qa_prompt with input: \n",
      "query_str: modified or combined 5 features that you think Machine Learning Engineer would use to make his ML predict credit score better and tell me brief summary why you chose that feature.\n",
      "col_context: [NodeWithScore(node=TextNode(id_='76968f57-84c6-4298-9866-7289b70e3943', embedding=None, metadata={'file_path': 'D:\\\\Coding\\\\KBTG_HACK\\\\langchain\\\\pandas_description\\\\column_names.txt', 'file_name': '...\n",
      "\n",
      "\u001b[0m\u001b[1;3;38;2;155;135;227m> Running module llm with input: \n",
      "messages: \n",
      "You are working with a pandas dataframe in Python. The name of the dataframe is `df`. Below is a column context of DataFrame (df) provided:\n",
      "['Node ID: 76968f57-84c6-4298-9866-7289b70e3943\\nText: bala...\n",
      "\n",
      "\u001b[0m"
     ]
    },
    {
     "data": {
      "text/plain": [
       "ChatResponse(message=ChatMessage(role=<MessageRole.ASSISTANT: 'assistant'>, content=\"1. mean_credamount_590A: The average amount of credit taken by the individual can provide insights into their credit utilization and financial responsibility. A higher average credit amount may indicate a higher risk of default, while a lower average amount may indicate responsible credit management.\\n\\n2. mean_currdebt_94A: The average current debt of the individual can give an indication of their debt-to-income ratio. A high average current debt may suggest financial strain and a higher likelihood of default, while a lower average current debt may indicate better financial stability.\\n\\n3. mean_outstandingdebt_522A: The average outstanding debt of the individual can provide information on their overall debt burden. A higher average outstanding debt may indicate a higher risk of default, while a lower average outstanding debt may suggest better financial management.\\n\\n4. max_approvaldate_319D: The maximum approval date of credit transactions can give insights into the individual's credit history and the recency of their credit activities. A more recent approval date may indicate active credit usage, while older approval dates may suggest a longer credit history.\\n\\n5. last_numberofoverdueinstlmaxdat_641D: The number of overdue installments at the maximum date can provide information on the individual's payment behavior. A higher number of overdue installments may indicate a higher risk of default, while a lower number may suggest better payment discipline.\", additional_kwargs={}), raw={'id': 'chatcmpl-9SC13hXjkU2sRnw6PnjBXtGzdw2aK', 'choices': [Choice(finish_reason='stop', index=0, logprobs=None, message=ChatCompletionMessage(content=\"1. mean_credamount_590A: The average amount of credit taken by the individual can provide insights into their credit utilization and financial responsibility. A higher average credit amount may indicate a higher risk of default, while a lower average amount may indicate responsible credit management.\\n\\n2. mean_currdebt_94A: The average current debt of the individual can give an indication of their debt-to-income ratio. A high average current debt may suggest financial strain and a higher likelihood of default, while a lower average current debt may indicate better financial stability.\\n\\n3. mean_outstandingdebt_522A: The average outstanding debt of the individual can provide information on their overall debt burden. A higher average outstanding debt may indicate a higher risk of default, while a lower average outstanding debt may suggest better financial management.\\n\\n4. max_approvaldate_319D: The maximum approval date of credit transactions can give insights into the individual's credit history and the recency of their credit activities. A more recent approval date may indicate active credit usage, while older approval dates may suggest a longer credit history.\\n\\n5. last_numberofoverdueinstlmaxdat_641D: The number of overdue installments at the maximum date can provide information on the individual's payment behavior. A higher number of overdue installments may indicate a higher risk of default, while a lower number may suggest better payment discipline.\", role='assistant', function_call=None, tool_calls=None))], 'created': 1716506401, 'model': 'gpt-3.5-turbo-0125', 'object': 'chat.completion', 'system_fingerprint': None, 'usage': CompletionUsage(completion_tokens=278, prompt_tokens=554, total_tokens=832)}, delta=None, logprobs=None, additional_kwargs={})"
      ]
     },
     "execution_count": 49,
     "metadata": {},
     "output_type": "execute_result"
    }
   ],
   "source": [
    "p.run(input=\"modified or combined 5 features that you think Machine Learning Engineer would use to make his ML predict credit score better and tell me brief summary why you chose that feature.\")"
   ]
  },
  {
   "cell_type": "markdown",
   "metadata": {},
   "source": [
    "# **Combine Visualization and QueryPipeline**"
   ]
  },
  {
   "cell_type": "code",
   "execution_count": 66,
   "metadata": {},
   "outputs": [],
   "source": [
    "from llama_index.core.query_pipeline import QueryPipeline, InputComponent\n",
    "from llama_index.core import PromptTemplate"
   ]
  },
  {
   "cell_type": "code",
   "execution_count": 67,
   "metadata": {},
   "outputs": [],
   "source": [
    "from llama_index.postprocessor.cohere_rerank import CohereRerank\n",
    "from llama_index.core.response_synthesizers import TreeSummarize\n",
    "\n",
    "\n",
    "# define modules\n",
    "prompt_str1 = \"You are a Data Analyst, From the these table in the DB. Generate 1 questions that could would help a make an interesting plot which lead to insights.\"\n",
    "# gen_plot_prompt = \"from the following questions: {questions}. Assuming you have a Pandas DataFrame that contains all the columns from the all the Table in the DB with the same name. Generate a Matplotlib Executable that would generate a plot from the questions provided\"\n",
    "prompt_tmpl1 = PromptTemplate(prompt_str1)\n",
    "llm = OpenAI(model=\"gpt-3.5-turbo\")\n",
    "# retriever = index.as_retriever(similarity_top_k=5)\n",
    "# reranker = CohereRerank()\n",
    "# summarizer = TreeSummarize(llm=llm)"
   ]
  },
  {
   "cell_type": "code",
   "execution_count": 68,
   "metadata": {},
   "outputs": [],
   "source": [
    "qe = vector_engine.as_query_component(streaming=True)\n",
    "ve = visualize_engine.as_query_component(streaming=True)"
   ]
  },
  {
   "cell_type": "code",
   "execution_count": 69,
   "metadata": {},
   "outputs": [],
   "source": [
    "# define query pipeline\n",
    "p = QueryPipeline(verbose=True)\n",
    "p.add_modules(\n",
    "    {   \n",
    "        # \"input\": InputComponent(),\n",
    "        \"prompt_tmpl\": prompt_tmpl1,\n",
    "        # \"retriever\": retriever,\n",
    "        # \"reranker\": reranker,\n",
    "        # \"llm\": llm,\n",
    "        \"query_engine\": qe,\n",
    "        \"visual_engine\": ve\n",
    "    }\n",
    ")\n",
    "\n",
    "p.add_link(\"prompt_tmpl\", \"query_engine\", dest_key=\"input\")\n",
    "p.add_link(\"query_engine\", \"visual_engine\", dest_key=\"input\")\n"
   ]
  },
  {
   "cell_type": "code",
   "execution_count": 70,
   "metadata": {},
   "outputs": [],
   "source": [
    "## create graph\n",
    "from pyvis.network import Network\n",
    "from IPython.display import HTML, display\n",
    "\n",
    "net = Network(notebook=True, cdn_resources=\"in_line\", directed=True)\n",
    "net.from_nx(p.dag)\n",
    "net.save_graph(\"rag_dag.html\")\n"
   ]
  },
  {
   "cell_type": "code",
   "execution_count": null,
   "metadata": {},
   "outputs": [],
   "source": [
    "p.run()"
   ]
  },
  {
   "cell_type": "code",
   "execution_count": null,
   "metadata": {},
   "outputs": [],
   "source": []
  },
  {
   "cell_type": "code",
   "execution_count": null,
   "metadata": {},
   "outputs": [],
   "source": []
  }
 ],
 "metadata": {
  "kernelspec": {
   "display_name": "Python 3",
   "language": "python",
   "name": "python3"
  },
  "language_info": {
   "codemirror_mode": {
    "name": "ipython",
    "version": 3
   },
   "file_extension": ".py",
   "mimetype": "text/x-python",
   "name": "python",
   "nbconvert_exporter": "python",
   "pygments_lexer": "ipython3",
   "version": "3.11.9"
  }
 },
 "nbformat": 4,
 "nbformat_minor": 2
}
