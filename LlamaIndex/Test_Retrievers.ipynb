{
 "cells": [
  {
   "cell_type": "code",
   "execution_count": 1,
   "metadata": {},
   "outputs": [
    {
     "name": "stderr",
     "output_type": "stream",
     "text": [
      "C:\\Users\\PC\\AppData\\Local\\Packages\\PythonSoftwareFoundation.Python.3.11_qbz5n2kfra8p0\\LocalCache\\local-packages\\Python311\\site-packages\\tqdm\\auto.py:21: TqdmWarning: IProgress not found. Please update jupyter and ipywidgets. See https://ipywidgets.readthedocs.io/en/stable/user_install.html\n",
      "  from .autonotebook import tqdm as notebook_tqdm\n"
     ]
    }
   ],
   "source": [
    "import phoenix as px\n",
    "import llama_index\n",
    "from llama_index.callbacks import arize_phoenix\n",
    "from sqlalchemy import create_engine\n",
    "from glob import glob\n",
    "import os"
   ]
  },
  {
   "cell_type": "code",
   "execution_count": 2,
   "metadata": {},
   "outputs": [
    {
     "name": "stdout",
     "output_type": "stream",
     "text": [
      "🌍 To view the Phoenix app in your browser, visit http://localhost:6006/\n",
      "📖 For more information on how to use Phoenix, check out https://docs.arize.com/phoenix\n"
     ]
    }
   ],
   "source": [
    "# not work with JSON Query Engine\n",
    "px.launch_app()\n",
    "llama_index.core.set_global_handler(\"arize_phoenix\")"
   ]
  },
  {
   "cell_type": "code",
   "execution_count": 3,
   "metadata": {},
   "outputs": [],
   "source": [
    "os.environ[\"OPENAI_API_KEY\"] = \"\"\n",
    "os.environ[\"TAVILY_API_KEY\"] = \"\"\n",
    "os.environ[\"COHERE_API_KEY\"] = \"\""
   ]
  },
  {
   "cell_type": "markdown",
   "metadata": {},
   "source": [
    "# Create Pseudo DB"
   ]
  },
  {
   "cell_type": "code",
   "execution_count": 4,
   "metadata": {},
   "outputs": [],
   "source": [
    "engine = create_engine(f\"path_to_/my_database_no_agg.db\")"
   ]
  },
  {
   "cell_type": "code",
   "execution_count": 5,
   "metadata": {},
   "outputs": [],
   "source": [
    "from llama_index.core import SQLDatabase\n",
    "\n",
    "sql_database = SQLDatabase(engine)"
   ]
  },
  {
   "cell_type": "code",
   "execution_count": 27,
   "metadata": {},
   "outputs": [
    {
     "name": "stdout",
     "output_type": "stream",
     "text": [
      "[{'table_name': 'applprev', 'table_summary': 'The table contains information about case_id, max_actualdpd_943P, max_annuity_853A, max_credacc_actualbalance_314A, max_credacc_credlmt_575A, and other related data for different cases.'}, {'table_name': 'base', 'table_summary': 'The table contains case_id, date_decision, MONTH, WEEK_NUM, and target columns with corresponding data.'}, {'table_name': 'credit_bureau_a', 'table_summary': \"The table contains dept 1 information about credit bureau of each case_id from datasource 'a'. Contains columns of case IDs and various credit-related attributes such as credit limits, debt outstanding, overdue amounts, installment amounts, dates, financial institutions, and more.\"}, {'table_name': 'credit_bureau_b', 'table_summary': \"The table contains dept 1 information about credit bureau of each case_id from datasource 'b'. Contains columns of case IDs and various credit-related attributes such as maximum amounts, credit limits, debt values, installment amounts, contract dates, and more.\"}, {'table_name': 'credit_bureau_b_2', 'table_summary': \"Table has dept 2 information about credit bureau of each case_id from datasource 'b'. Containing case_id, max_pmts_dpdvalue_108P, max_pmts_pmtsoverdue_635A, max_pmts_date_1107D, max_num_group1, and max_num_group2\"}, {'table_name': 'debitcard', 'table_summary': 'Table containing case_id, max_last180dayaveragebalance_704A, max_last180dayturnover_1134A, max_last30dayturnover_651A, max_openingdate_857D, max_num_group1'}, {'table_name': 'deposit', 'table_summary': 'This table contains information about case IDs, maximum amounts, contract end dates, opening dates, and number of groups for deposits.'}, {'table_name': 'other', 'table_summary': 'Table with case_id, max_amtdebitincoming/outgoing, max_amtdepositbalance/incoming/outgoing, and max_num_group1'}, {'table_name': 'person', 'table_summary': 'The table contains information about different individuals, including their case ID, occupation, birthdate, employment details, address, education, marital status, gender, and other personal details.'}, {'table_name': 'static_cb', 'table_summary': 'The table contains various columns such as case_id, assignment dates, birthdate, contracts sum, education, marital status, number of queries, payment averages, response dates, risk assessment, and quarters. It also includes data for each column for different cases.'}, {'table_name': 'tax_registry_a', 'table_summary': \"This table contains information about tax registry from datasource 'a'. Containing case IDs, maximum amounts, record dates, names, and number groups.\"}, {'table_name': 'tax_registry_b', 'table_summary': \"This table contains information about tax registry from datasource 'b'. Containing case IDs, maximum amounts, maximum deduction dates, maximum names, and maximum number groups.\"}, {'table_name': 'tax_registry_c', 'table_summary': \"This table contains information about tax registry from datasource 'c'. Containing case IDs, maximum payment amounts, processing dates, employer names, and group numbers.\"}]\n"
     ]
    }
   ],
   "source": [
    "import os\n",
    "import json\n",
    "\n",
    "# Specify the folder path where the JSON files are located\n",
    "folder_path = \"../../misc/TableInfo\"\n",
    "\n",
    "# Create an empty list to store the data\n",
    "table_infos = []\n",
    "\n",
    "# Loop through all files in the folder\n",
    "for filename in os.listdir(folder_path):\n",
    "    # Check if the file is a JSON file\n",
    "    if filename.endswith(\".json\"):\n",
    "        # Construct the full file path\n",
    "        file_path = os.path.join(folder_path, filename)\n",
    "        \n",
    "        # Open the JSON file and load its contents\n",
    "        with open(file_path, \"r\") as file:\n",
    "            data = json.load(file)\n",
    "            \n",
    "        # Append the data to the list\n",
    "        table_infos.append(data)\n",
    "\n",
    "# Print the resulting list\n",
    "print(table_infos)"
   ]
  },
  {
   "cell_type": "code",
   "execution_count": 29,
   "metadata": {},
   "outputs": [],
   "source": [
    "from llama_index.core.objects import (\n",
    "    SQLTableNodeMapping,\n",
    "    ObjectIndex,\n",
    "    SQLTableSchema,\n",
    ")\n",
    "from llama_index.core import SQLDatabase, VectorStoreIndex\n",
    "engine = create_engine(f\"path_to_/my_database_no_agg.db\")\n",
    "sql_database = SQLDatabase(engine)\n",
    "\n",
    "table_node_mapping = SQLTableNodeMapping(sql_database)\n",
    "table_schema_objs = [\n",
    "    SQLTableSchema(table_name=t[\"table_name\"], context_str=t[\"table_summary\"])\n",
    "    for t in table_infos\n",
    "]  # add a SQLTableSchema for each table"
   ]
  },
  {
   "cell_type": "markdown",
   "metadata": {},
   "source": [
    "# Add Data description"
   ]
  },
  {
   "cell_type": "code",
   "execution_count": 44,
   "metadata": {},
   "outputs": [],
   "source": [
    "from llama_index.llms.openai import OpenAI\n",
    "from llama_index.embeddings.openai import OpenAIEmbedding\n",
    "from llama_index.core import Settings\n",
    "\n",
    "Settings.llm = OpenAI(model=\"gpt-3.5-turbo\")\n",
    "Settings.embed_model = OpenAIEmbedding(model=\"text-embedding-3-small\")"
   ]
  },
  {
   "cell_type": "code",
   "execution_count": 71,
   "metadata": {},
   "outputs": [],
   "source": [
    "from llama_index.core import SimpleDirectoryReader\n",
    "\n",
    "reader = SimpleDirectoryReader(\"D:\\Coding\\KBTG_HACK\\langchain\\data_description\")"
   ]
  },
  {
   "cell_type": "code",
   "execution_count": 72,
   "metadata": {},
   "outputs": [],
   "source": [
    "docs = reader.load_data()"
   ]
  },
  {
   "cell_type": "markdown",
   "metadata": {},
   "source": [
    "# VectorStore"
   ]
  },
  {
   "cell_type": "code",
   "execution_count": 74,
   "metadata": {},
   "outputs": [],
   "source": [
    "from llama_index.core import VectorStoreIndex, SimpleDirectoryReader\n",
    "from llama_index.core.response.pprint_utils import pprint_response"
   ]
  },
  {
   "cell_type": "code",
   "execution_count": 75,
   "metadata": {},
   "outputs": [],
   "source": [
    "index = VectorStoreIndex.from_documents(documents=docs)"
   ]
  },
  {
   "cell_type": "markdown",
   "metadata": {},
   "source": [
    "# RAG"
   ]
  },
  {
   "cell_type": "code",
   "execution_count": 76,
   "metadata": {},
   "outputs": [],
   "source": [
    "from llama_index.postprocessor.cohere_rerank import CohereRerank\n",
    "api_key = os.environ[\"COHERE_API_KEY\"]\n",
    "cohere_rerank = CohereRerank(api_key=api_key, top_n=2)"
   ]
  },
  {
   "cell_type": "code",
   "execution_count": 92,
   "metadata": {},
   "outputs": [],
   "source": [
    "vector_engine = index.as_query_engine(\n",
    "    similarity_top_k=3,\n",
    "    node_postprocessors=[cohere_rerank],\n",
    ")\n"
   ]
  },
  {
   "cell_type": "code",
   "execution_count": 105,
   "metadata": {},
   "outputs": [],
   "source": [
    "response = vector_engine.query(\n",
    "    \"If I were to create Machine Learning to Predict credit score, I want you to act as an expert and tell me 10 features that expert would extract by modified table to make the model better and how to create from the columns. Assume I turn the table in to pandas DF then also write the pandas Executable\",\n",
    ")"
   ]
  },
  {
   "cell_type": "code",
   "execution_count": 106,
   "metadata": {},
   "outputs": [
    {
     "name": "stdout",
     "output_type": "stream",
     "text": [
      "Final Response: The expert would likely extract the following 10\n",
      "features from the modified table to enhance the credit score\n",
      "prediction model:  1. Average Debt Past Due Value 2. Total Credit\n",
      "Limit 3. Number of Credit Contracts 4. Maximum Days Past Due 5.\n",
      "Installment Amount 6. Effective Interest Rate 7. Number of Pending\n",
      "Payments 8. Purpose of Credit 9. Residual Amount 10. Total Amount of\n",
      "Credit  To create these features from the columns in the table, you\n",
      "can use aggregation functions like mean, sum, max, etc. based on the\n",
      "specific requirements of each feature. Below is the pandas executable\n",
      "code to create these features:  ```python # Assuming 'df' is the\n",
      "pandas DataFrame containing the table 'credit_bureau_b'  # Feature 1:\n",
      "Average Debt Past Due Value df['avg_debt_past_due'] =\n",
      "df[['debtpastduevalue_732A', 'dpd_550P', 'dpd_733P']].mean(axis=1)  #\n",
      "Feature 2: Total Credit Limit df['total_credit_limit'] =\n",
      "df[['credlmt_1052A', 'credlmt_228A', 'credlmt_3940954A']].sum(axis=1)\n",
      "# Feature 3: Number of Credit Contracts df['num_credit_contracts'] =\n",
      "df['credquantity_1099L'] + df['credquantity_984L']  # Feature 4:\n",
      "Maximum Days Past Due df['max_days_past_due'] = df[['dpdmax_851P',\n",
      "'dpdmaxdatemonth_804T', 'dpdmaxdateyear_742T']].max(axis=1)  # Feature\n",
      "5: Installment Amount df['installment_amount'] =\n",
      "df[['installmentamount_644A', 'installmentamount_833A',\n",
      "'instlamount_892A']].sum(axis=1)  # Feature 6: Effective Interest Rate\n",
      "df['effective_interest_rate'] = df['interesteffectiverate_369L']  #\n",
      "Feature 7: Number of Pending Payments df['num_pending_payments'] =\n",
      "df['pmtnumpending_403L']  # Feature 8: Purpose of Credit # Assuming\n",
      "'purposeofcred_722M' contains categorical values, you can one-hot\n",
      "encode it  # Feature 9: Residual Amount df['residual_amount'] =\n",
      "df[['residualamount_1093A', 'residualamount_127A',\n",
      "'residualamount_3940956A']].sum(axis=1)  # Feature 10: Total Amount of\n",
      "Credit df['total_credit_amount'] = df[['totalamount_503A',\n",
      "'totalamount_881A']].sum(axis=1) ```\n",
      "______________________________________________________________________\n",
      "Source Node 1/2\n",
      "Node ID: bc49782d-94e0-44d4-846c-11daaf6d741e\n",
      "Similarity: 0.95783347\n",
      "Text: Table Description  This dataset contains a large number of\n",
      "tables as a result of utilizing diverse data sources and the varying\n",
      "levels of data aggregation used while preparing the dataset    Base\n",
      "tables  Base tables store the basic information about the observation\n",
      "and case_id. This is a unique identification of every observation and\n",
      "you need to...\n",
      "______________________________________________________________________\n",
      "Source Node 2/2\n",
      "Node ID: b0cadc37-332c-4e68-b044-50bd61ecf4b6\n",
      "Similarity: 0.9313377\n",
      "Text: Table 'credit_bureau_b' has columns: case_id (BIGINT),\n",
      "amount_1115A (FLOAT), classificationofcontr_1114M (TEXT),\n",
      "contractdate_551D (DATETIME), contractmaturitydate_151D (DATETIME),\n",
      "contractst_516M (TEXT), contracttype_653M (TEXT), credlmt_1052A\n",
      "(FLOAT), credlmt_228A (FLOAT), credlmt_3940954A (FLOAT),\n",
      "credor_3940957M (TEXT), credquantity_1099L (F...\n"
     ]
    }
   ],
   "source": [
    "pprint_response(response, show_source=True)"
   ]
  },
  {
   "cell_type": "markdown",
   "metadata": {},
   "source": [
    "# Decompose Queries RAG"
   ]
  },
  {
   "cell_type": "code",
   "execution_count": 88,
   "metadata": {},
   "outputs": [],
   "source": [
    "from llama_index.core.indices.query.query_transform.base import (\n",
    "    StepDecomposeQueryTransform,\n",
    ")"
   ]
  },
  {
   "cell_type": "code",
   "execution_count": 89,
   "metadata": {},
   "outputs": [],
   "source": [
    "gpt35 = OpenAI(temperature=0, model=\"gpt-3.5-turbo\")"
   ]
  },
  {
   "cell_type": "code",
   "execution_count": 90,
   "metadata": {},
   "outputs": [],
   "source": [
    "step_decompose_transform_gpt3 = StepDecomposeQueryTransform(\n",
    "    llm=gpt35, verbose=True\n",
    ")"
   ]
  },
  {
   "cell_type": "code",
   "execution_count": 65,
   "metadata": {},
   "outputs": [],
   "source": [
    "\n",
    "# set Logging to DEBUG for more detailed outputs\n",
    "from llama_index.core.query_engine import MultiStepQueryEngine\n",
    "\n",
    "query_engine = index.as_query_engine(llm=gpt35)\n",
    "query_engine = MultiStepQueryEngine(\n",
    "    query_\n",
    "    query_engine=query_engine,\n",
    "    query_transform=step_decompose_transform_gpt3,\n",
    "    index_summary=\"use to answer questions about the database\",\n",
    ")\n"
   ]
  },
  {
   "cell_type": "code",
   "execution_count": 67,
   "metadata": {},
   "outputs": [
    {
     "name": "stdout",
     "output_type": "stream",
     "text": [
      "\u001b[1;3;33m> Current query: tell be breif summary 3 columns meaning from the table credit bureau\n",
      "\u001b[0m\u001b[1;3;38;5;200m> New query: What are the three columns in the credit bureau table and what do they represent?\n",
      "\u001b[0m\u001b[1;3;33m> Current query: tell be breif summary 3 columns meaning from the table credit bureau\n",
      "\u001b[0m\u001b[1;3;38;5;200m> New query: What is the significance of the 'classificationofcontr_1114M' column in the credit bureau table?\n",
      "\u001b[0m\u001b[1;3;33m> Current query: tell be breif summary 3 columns meaning from the table credit bureau\n",
      "\u001b[0m\u001b[1;3;38;5;200m> New query: What information does the 'contracttype_653M' column in the credit bureau table represent?\n",
      "\u001b[0m"
     ]
    }
   ],
   "source": [
    "response = query_engine.query(\"tell be breif summary 3 columns meaning from the table credit bureau\")"
   ]
  },
  {
   "cell_type": "code",
   "execution_count": 68,
   "metadata": {},
   "outputs": [
    {
     "name": "stdout",
     "output_type": "stream",
     "text": [
      "The three columns in the credit bureau table provide essential information about the contracts and credit details associated with clients. The 'classificationofcontr_1114M' column likely categorizes the contracts, the 'contracttype_653M' column specifies the type of contract (e.g., loan, credit card), and the 'credor_3940957M' column identifies the creditor linked to the contract agreements.\n"
     ]
    }
   ],
   "source": [
    "print(response)"
   ]
  },
  {
   "cell_type": "code",
   "execution_count": 69,
   "metadata": {},
   "outputs": [
    {
     "name": "stdout",
     "output_type": "stream",
     "text": [
      "Final Response: The three columns in the credit bureau table provide\n",
      "essential information about the contracts and credit details\n",
      "associated with clients. The 'classificationofcontr_1114M' column\n",
      "likely categorizes the contracts, the 'contracttype_653M' column\n",
      "specifies the type of contract (e.g., loan, credit card), and the\n",
      "'credor_3940957M' column identifies the creditor linked to the\n",
      "contract agreements.\n",
      "______________________________________________________________________\n",
      "Source Node 1/9\n",
      "Node ID: 11b0cfc3-4334-4abb-b9f7-baa87456f895\n",
      "Similarity: None\n",
      "Text: Question: What are the three columns in the credit bureau table\n",
      "and what do they represent? Answer: The three columns in the credit\n",
      "bureau table are 'classificationofcontr_1114M', 'contracttype_653M',\n",
      "and 'credor_3940957M'. They represent the classification of the\n",
      "contract, the type of contract, and the creditor associated with the\n",
      "contract, res...\n",
      "______________________________________________________________________\n",
      "Source Node 2/9\n",
      "Node ID: 5a737dc4-af39-436c-a5a8-86da7c0de5ef\n",
      "Similarity: None\n",
      "Text: Question: What is the significance of the\n",
      "'classificationofcontr_1114M' column in the credit bureau table?\n",
      "Answer: The 'classificationofcontr_1114M' column in the credit bureau\n",
      "table likely holds information related to the classification or\n",
      "categorization of the contracts associated with the clients. This\n",
      "column could provide details on the type...\n",
      "______________________________________________________________________\n",
      "Source Node 3/9\n",
      "Node ID: 88b576b6-6fc4-4d91-b489-9b02670683dd\n",
      "Similarity: None\n",
      "Text: Question: What information does the 'contracttype_653M' column\n",
      "in the credit bureau table represent? Answer: The 'contracttype_653M'\n",
      "column in the credit bureau table represents the type of contract\n",
      "associated with the credit information, such as whether it is a loan,\n",
      "credit card, mortgage, or another type of financial agreement.\n",
      "______________________________________________________________________\n",
      "Source Node 4/9\n",
      "Node ID: c05e1ec3-c56e-4a3f-923c-052570e60414\n",
      "Similarity: 0.5657791160942217\n",
      "Text: Table 'credit_bureau_b' has columns: case_id (BIGINT),\n",
      "amount_1115A (FLOAT), classificationofcontr_1114M (TEXT),\n",
      "contractdate_551D (DATETIME), contractmaturitydate_151D (DATETIME),\n",
      "contractst_516M (TEXT), contracttype_653M (TEXT), credlmt_1052A\n",
      "(FLOAT), credlmt_228A (FLOAT), credlmt_3940954A (FLOAT),\n",
      "credor_3940957M (TEXT), credquantity_1099L (F...\n",
      "______________________________________________________________________\n",
      "Source Node 5/9\n",
      "Node ID: 49a4e0b4-38cd-4453-b188-33bc8b90a4e6\n",
      "Similarity: 0.5617272403400233\n",
      "Text: Table Description  This dataset contains a large number of\n",
      "tables as a result of utilizing diverse data sources and the varying\n",
      "levels of data aggregation used while preparing the dataset    Base\n",
      "tables  Base tables store the basic information about the observation\n",
      "and case_id. This is a unique identification of every observation and\n",
      "you need to...\n",
      "______________________________________________________________________\n",
      "Source Node 6/9\n",
      "Node ID: d1de1f54-1433-461b-b8aa-effa9b85a31d\n",
      "Similarity: 0.5534887910206209\n",
      "Text: Table 'base' has columns: case_id (BIGINT), date_decision\n",
      "(DATETIME), MONTH (BIGINT), WEEK_NUM (BIGINT), target (BIGINT), and\n",
      "foreign keys: .  Table 'credit_bureau_a' has columns: case_id\n",
      "(BIGINT), annualeffectiverate_199L (FLOAT), annualeffectiverate_63L\n",
      "(FLOAT), classificationofcontr_13M (TEXT), classificationofcontr_400M\n",
      "(TEXT), contractst_54...\n",
      "______________________________________________________________________\n",
      "Source Node 7/9\n",
      "Node ID: 5a13ba8c-e998-4bb8-a046-ae03554374c9\n",
      "Similarity: 0.5491706229616816\n",
      "Text: commnoinclast6m_3546845L: Number of communications indicating\n",
      "low income in the last six months.  contaddr_district_15M: Zip code of\n",
      "a contact person's address.  contaddr_matchlist_1032L: Indicates\n",
      "whether the contact address is found in a code list.\n",
      "contaddr_smempladdr_334L: Indicates whether the contact address is the\n",
      "same as the employment a...\n",
      "______________________________________________________________________\n",
      "Source Node 8/9\n",
      "Node ID: 5a13ba8c-e998-4bb8-a046-ae03554374c9\n",
      "Similarity: 0.6427325038482432\n",
      "Text: commnoinclast6m_3546845L: Number of communications indicating\n",
      "low income in the last six months.  contaddr_district_15M: Zip code of\n",
      "a contact person's address.  contaddr_matchlist_1032L: Indicates\n",
      "whether the contact address is found in a code list.\n",
      "contaddr_smempladdr_334L: Indicates whether the contact address is the\n",
      "same as the employment a...\n",
      "______________________________________________________________________\n",
      "Source Node 9/9\n",
      "Node ID: b58cc987-c1ab-4053-9d1b-97f4a9b96179\n",
      "Similarity: 0.621606705609048\n",
      "Text: avginstallast24m_3658937A: Average instalments paid by the\n",
      "client over the past 24 months.  avglnamtstart24m_4525187A: Average\n",
      "loan amount in the last 24 months.  avgmaxdpdlast9m_3716943P: Average\n",
      "Days Past Due (DPD) of the client in last 9 months.\n",
      "avgoutstandbalancel6m_4187114A: Average outstanding balance of\n",
      "applicant for the last 6 months.  ...\n"
     ]
    }
   ],
   "source": [
    "pprint_response(response, show_source=True)"
   ]
  },
  {
   "cell_type": "code",
   "execution_count": null,
   "metadata": {},
   "outputs": [],
   "source": []
  }
 ],
 "metadata": {
  "kernelspec": {
   "display_name": "Python 3",
   "language": "python",
   "name": "python3"
  },
  "language_info": {
   "codemirror_mode": {
    "name": "ipython",
    "version": 3
   },
   "file_extension": ".py",
   "mimetype": "text/x-python",
   "name": "python",
   "nbconvert_exporter": "python",
   "pygments_lexer": "ipython3",
   "version": "3.11.9"
  }
 },
 "nbformat": 4,
 "nbformat_minor": 2
}
