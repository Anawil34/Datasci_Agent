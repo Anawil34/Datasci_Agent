{
 "cells": [
  {
   "cell_type": "markdown",
   "metadata": {},
   "source": [
    "# **Import**"
   ]
  },
  {
   "cell_type": "code",
   "execution_count": 2,
   "metadata": {},
   "outputs": [
    {
     "name": "stderr",
     "output_type": "stream",
     "text": [
      "C:\\Users\\PC\\AppData\\Local\\Packages\\PythonSoftwareFoundation.Python.3.11_qbz5n2kfra8p0\\LocalCache\\local-packages\\Python311\\site-packages\\tqdm\\auto.py:21: TqdmWarning: IProgress not found. Please update jupyter and ipywidgets. See https://ipywidgets.readthedocs.io/en/stable/user_install.html\n",
      "  from .autonotebook import tqdm as notebook_tqdm\n"
     ]
    }
   ],
   "source": [
    "import phoenix as px\n",
    "import llama_index\n",
    "from llama_index.callbacks import arize_phoenix\n",
    "from sqlalchemy import create_engine\n",
    "from glob import glob\n",
    "import os"
   ]
  },
  {
   "cell_type": "code",
   "execution_count": null,
   "metadata": {},
   "outputs": [],
   "source": [
    "# not work with JSON Query Engine\n",
    "px.launch_app()\n",
    "llama_index.core.set_global_handler(\"arize_phoenix\")"
   ]
  },
  {
   "cell_type": "code",
   "execution_count": 4,
   "metadata": {},
   "outputs": [],
   "source": [
    "os.environ[\"OPENAI_API_KEY\"] = \"\"\n",
    "os.environ[\"TAVILY_API_KEY\"] = \"\"\n",
    "os.environ[\"COHERE_API_KEY\"] = \"\""
   ]
  },
  {
   "cell_type": "code",
   "execution_count": 5,
   "metadata": {},
   "outputs": [],
   "source": [
    "engine = create_engine(f\"sqlite:///path_to_db/my_database_no_agg.db\")"
   ]
  },
  {
   "cell_type": "code",
   "execution_count": 6,
   "metadata": {},
   "outputs": [],
   "source": [
    "from llama_index.core import SQLDatabase\n",
    "\n",
    "sql_database = SQLDatabase(engine)"
   ]
  },
  {
   "cell_type": "markdown",
   "metadata": {},
   "source": [
    "# **Query Engine**"
   ]
  },
  {
   "cell_type": "code",
   "execution_count": 7,
   "metadata": {},
   "outputs": [],
   "source": [
    "from llama_index.core.query_engine import NLSQLTableQueryEngine"
   ]
  },
  {
   "cell_type": "code",
   "execution_count": 8,
   "metadata": {},
   "outputs": [],
   "source": [
    "from llama_index.llms.openai import OpenAI\n",
    "llm = OpenAI(model=\"gpt-3.5-turbo\")"
   ]
  },
  {
   "cell_type": "code",
   "execution_count": 9,
   "metadata": {},
   "outputs": [],
   "source": [
    "sql_query_engine = NLSQLTableQueryEngine(\n",
    "    sql_database=sql_database,\n",
    ")"
   ]
  },
  {
   "cell_type": "code",
   "execution_count": 10,
   "metadata": {},
   "outputs": [],
   "source": [
    "# sql_query_engine.query(\"In table base how many rows in target that have value = 1\")"
   ]
  },
  {
   "cell_type": "code",
   "execution_count": 11,
   "metadata": {},
   "outputs": [],
   "source": [
    "# sql_query_engine.query(\"what is all of the different value of person sex\")"
   ]
  },
  {
   "cell_type": "markdown",
   "metadata": {},
   "source": [
    "# **MAKE TABLE RETREIVER**"
   ]
  },
  {
   "cell_type": "markdown",
   "metadata": {},
   "source": [
    "## **Create json Table Schema**  "
   ]
  },
  {
   "cell_type": "code",
   "execution_count": 50,
   "metadata": {},
   "outputs": [
    {
     "name": "stdout",
     "output_type": "stream",
     "text": [
      "[{'table_name': 'applprev', 'table_summary': 'The table contains information about case_id, max_actualdpd_943P, max_annuity_853A, max_credacc_actualbalance_314A, max_credacc_credlmt_575A, and other related data for different cases.'}, {'table_name': 'base', 'table_summary': 'The table contains case_id, date_decision, MONTH, WEEK_NUM, and target columns with corresponding data.'}, {'table_name': 'credit_bureau_a', 'table_summary': \"The table contains dept 1 information about credit bureau of each case_id from datasource 'a'. Contains columns of case IDs and various credit-related attributes such as credit limits, debt outstanding, overdue amounts, installment amounts, dates, financial institutions, and more.\"}, {'table_name': 'credit_bureau_b', 'table_summary': \"The table contains dept 1 information about credit bureau of each case_id from datasource 'b'. Contains columns of case IDs and various credit-related attributes such as maximum amounts, credit limits, debt values, installment amounts, contract dates, and more.\"}, {'table_name': 'credit_bureau_b_2', 'table_summary': \"Table has dept 2 information about credit bureau of each case_id from datasource 'b'. Containing case_id, max_pmts_dpdvalue_108P, max_pmts_pmtsoverdue_635A, max_pmts_date_1107D, max_num_group1, and max_num_group2\"}, {'table_name': 'debitcard', 'table_summary': 'Table containing case_id, max_last180dayaveragebalance_704A, max_last180dayturnover_1134A, max_last30dayturnover_651A, max_openingdate_857D, max_num_group1'}, {'table_name': 'deposit', 'table_summary': 'This table contains information about case IDs, maximum amounts, contract end dates, opening dates, and number of groups for deposits.'}, {'table_name': 'other', 'table_summary': 'Table with case_id, max_amtdebitincoming/outgoing, max_amtdepositbalance/incoming/outgoing, and max_num_group1'}, {'table_name': 'person', 'table_summary': 'The table contains information about different individuals, including their case ID, occupation, birthdate, employment details, address, education, marital status, gender, and other personal details.'}, {'table_name': 'static_cb', 'table_summary': 'The table contains various columns such as case_id, assignment dates, birthdate, contracts sum, education, marital status, number of queries, payment averages, response dates, risk assessment, and quarters. It also includes data for each column for different cases.'}, {'table_name': 'tax_registry_a', 'table_summary': \"This table contains information about tax registry from datasource 'a'. Containing case IDs, maximum amounts, record dates, names, and number groups.\"}, {'table_name': 'tax_registry_b', 'table_summary': \"This table contains information about tax registry from datasource 'b'. Containing case IDs, maximum amounts, maximum deduction dates, maximum names, and maximum number groups.\"}, {'table_name': 'tax_registry_c', 'table_summary': \"This table contains information about tax registry from datasource 'c'. Containing case IDs, maximum payment amounts, processing dates, employer names, and group numbers.\"}]\n"
     ]
    }
   ],
   "source": [
    "import os\n",
    "import json\n",
    "\n",
    "# Specify the folder path where the JSON files are located\n",
    "folder_path = \"path_to_/TableInfo\"\n",
    "\n",
    "# Create an empty list to store the data\n",
    "table_infos = []\n",
    "\n",
    "# Loop through all files in the folder\n",
    "for filename in os.listdir(folder_path):\n",
    "    # Check if the file is a JSON file\n",
    "    if filename.endswith(\".json\"):\n",
    "        # Construct the full file path\n",
    "        file_path = os.path.join(folder_path, filename)\n",
    "        \n",
    "        # Open the JSON file and load its contents\n",
    "        with open(file_path, \"r\") as file:\n",
    "            data = json.load(file)\n",
    "            \n",
    "        # Append the data to the list\n",
    "        table_infos.append(data)\n",
    "\n",
    "# Print the resulting list\n",
    "print(table_infos)"
   ]
  },
  {
   "cell_type": "code",
   "execution_count": 51,
   "metadata": {},
   "outputs": [],
   "source": [
    "with open(\"table_desciption.json\", \"w\") as file:\n",
    "    json.dump(table_infos, file, indent=4)"
   ]
  },
  {
   "cell_type": "markdown",
   "metadata": {},
   "source": [
    "## **Table Retreiver**"
   ]
  },
  {
   "cell_type": "code",
   "execution_count": null,
   "metadata": {},
   "outputs": [],
   "source": [
    "from llama_index.core.objects import (\n",
    "    SQLTableNodeMapping,\n",
    "    ObjectIndex,\n",
    "    SQLTableSchema,\n",
    ")\n",
    "from llama_index.core import SQLDatabase, VectorStoreIndex\n",
    "engine = create_engine(f\"sqlite:///path_to/my_database_no_agg.db\")\n",
    "sql_database = SQLDatabase(engine)\n",
    "\n",
    "table_node_mapping = SQLTableNodeMapping(sql_database)\n",
    "table_schema_objs = [\n",
    "    SQLTableSchema(table_name=t[\"table_name\"], context_str=t[\"table_summary\"])\n",
    "    for t in table_infos\n",
    "]  # add a SQLTableSchema for each table\n",
    "\n",
    "obj_index = ObjectIndex.from_objects(\n",
    "    table_schema_objs,\n",
    "    table_node_mapping,\n",
    "    VectorStoreIndex,\n",
    ")\n",
    "# obj_retriever = obj_index.as_retriever(similarity_top_k=3)"
   ]
  },
  {
   "cell_type": "code",
   "execution_count": 13,
   "metadata": {},
   "outputs": [],
   "source": [
    "from llama_index.core.indices.struct_store import SQLTableRetrieverQueryEngine\n",
    "table_retreiver_query_engine = SQLTableRetrieverQueryEngine(\n",
    "    sql_database,\n",
    "    obj_index.as_retriever(similarity_top_k=3),\n",
    ")"
   ]
  },
  {
   "cell_type": "code",
   "execution_count": 14,
   "metadata": {},
   "outputs": [],
   "source": [
    "# response = table_retreiver_query_engine.query(\"descibe tax registry table?\")\n",
    "# response"
   ]
  },
  {
   "cell_type": "markdown",
   "metadata": {},
   "source": [
    "# **Sub Query**"
   ]
  },
  {
   "cell_type": "code",
   "execution_count": 15,
   "metadata": {},
   "outputs": [],
   "source": [
    "import nest_asyncio\n",
    "\n",
    "nest_asyncio.apply()"
   ]
  },
  {
   "cell_type": "code",
   "execution_count": 16,
   "metadata": {},
   "outputs": [],
   "source": [
    "from llama_index.core import VectorStoreIndex, SimpleDirectoryReader\n",
    "from llama_index.core.tools import QueryEngineTool, ToolMetadata\n",
    "from llama_index.core.query_engine import SubQuestionQueryEngine\n",
    "from llama_index.core.callbacks import CallbackManager, LlamaDebugHandler\n",
    "from llama_index.core import Settings"
   ]
  },
  {
   "cell_type": "code",
   "execution_count": 17,
   "metadata": {},
   "outputs": [],
   "source": [
    "# Using the LlamaDebugHandler to print the trace of the sub questions\n",
    "# captured by the SUB_QUESTION callback event type\n",
    "llama_debug = LlamaDebugHandler(print_trace_on_end=True)\n",
    "callback_manager = CallbackManager([llama_debug])\n",
    "\n",
    "Settings.callback_manager = callback_manager"
   ]
  },
  {
   "cell_type": "code",
   "execution_count": 18,
   "metadata": {},
   "outputs": [],
   "source": [
    "# setup base query engine as tool\n",
    "query_engine_tools = [\n",
    "    QueryEngineTool(\n",
    "        query_engine=table_retreiver_query_engine,\n",
    "        metadata=ToolMetadata(\n",
    "            name=\"credit_data\",\n",
    "            description=\"Database contain the value that related to credit prediction\",\n",
    "        ),\n",
    "    ),\n",
    "]\n",
    "\n",
    "subquery_engine = SubQuestionQueryEngine.from_defaults(\n",
    "    query_engine_tools=query_engine_tools,\n",
    "    use_async=True,\n",
    ")"
   ]
  },
  {
   "cell_type": "code",
   "execution_count": 19,
   "metadata": {},
   "outputs": [],
   "source": [
    "subquery_engine.query(\"what is the case_id that has the most credit limit. then what how many person has that case_id\")"
   ]
  },
  {
   "cell_type": "markdown",
   "metadata": {},
   "source": [
    "# **Auto Vector Query Engine**"
   ]
  },
  {
   "cell_type": "code",
   "execution_count": 39,
   "metadata": {},
   "outputs": [],
   "source": [
    "from llama_index.core import (\n",
    "    VectorStoreIndex,\n",
    "    SimpleDirectoryReader,\n",
    "    StorageContext,\n",
    ")\n",
    "from llama_index.core import SummaryIndex"
   ]
  },
  {
   "cell_type": "code",
   "execution_count": 40,
   "metadata": {},
   "outputs": [],
   "source": [
    "documents = SimpleDirectoryReader(\"../../misc/data_description\").load_data()"
   ]
  },
  {
   "cell_type": "code",
   "execution_count": 41,
   "metadata": {},
   "outputs": [
    {
     "data": {
      "text/plain": [
       "[Document(id_='81cf698b-312b-43f8-ab4a-2eee990269dd', embedding=None, metadata={'file_path': 'D:\\\\Coding\\\\KBTG_HACK\\\\langchain\\\\data_description\\\\data_description.txt', 'file_name': 'data_description.txt', 'file_type': 'text/plain', 'file_size': 38933, 'creation_date': '2024-05-23', 'last_modified_date': '2024-05-23'}, excluded_embed_metadata_keys=['file_name', 'file_type', 'file_size', 'creation_date', 'last_modified_date', 'last_accessed_date'], excluded_llm_metadata_keys=['file_name', 'file_type', 'file_size', 'creation_date', 'last_modified_date', 'last_accessed_date'], relationships={}, text='Table Description\\r\\nThis dataset contains a large number of tables as a result of utilizing diverse data sources and the varying levels of data aggregation used while preparing the dataset\\r\\n\\r\\nBase tables\\r\\nBase tables store the basic information about the observation and case_id. This is a unique identification of every observation and you need to use it to join the other tables to base tables.\\r\\nTable: base\\r\\nProperties: depth=0, internal data source\\r\\nTable: static\\r\\nProperties: depth=0, external data source\\r\\nTable: applprev_1\\r\\nProperties: depth=1, internal data source\\r\\nTable: other\\r\\nProperties: depth=1, internal data source\\r\\nTable: tax_registry_a\\r\\nProperties: depth=1, external data source, Tax registry provider A\\r\\nTable: tax_registry_b\\r\\nProperties: depth=1, external data source, Tax registry provider B\\r\\nTable: tax_registry_c\\r\\nProperties: depth=1, external data source, Tax registry provider C\\r\\nTable: credit_bureau_a\\r\\nProperties: depth=1, external data source, Credit bureau provider A\\r\\nTable: credit_bureau_b\\r\\nProperties: depth=1, external data source, Credit bureau provider B\\r\\nTable: deposit\\r\\nProperties: depth=1, internal data source\\r\\nTable: person\\r\\nProperties: depth=1, internal data source\\r\\nTable: debitcard\\r\\nProperties: depth=1, internal data source\\r\\nTable: credit_bureau_b\\r\\nProperties: depth=2, external data source, Credit bureau provider B\\r\\nTrain Files:\\r\\n\\r\\nDepth values:\\r\\n\\r\\ndepth=0 - These are static features directly tied to a specific case_id.\\r\\ndepth=1 - Each case_id has an associated historical record, indexed by num_group1.\\r\\ndepth=2 - Each case_id has an associated historical record, indexed by both num_group1 and num_group2.\\r\\nYou can read more about Credit bureau (CB) here https://en.wikipedia.org/wiki/Credit_bureau.\\r\\n\\r\\nColumns\\r\\nSpecial columns:\\r\\n\\r\\ncase_id - This is the unique identifier for each credit case. You\\'ll need this ID to join relevant tables to the base table.\\r\\ndate_decision - This refers to the date when a decision was made regarding the approval of the loan.\\r\\nWEEK_NUM - This is the week number used for aggregation. In the test sample, WEEK_NUM continues sequentially from the last training value of WEEK_NUM.\\r\\nMONTH - This column represents the month and is intended for aggregation purposes.\\r\\ntarget - This is the target value, determined after a certain period based on whether or not the client defaulted on the specific credit case (loan).\\r\\nnum_group1 - This is an indexing column used for the historical records of case_id in both depth=1 and depth=2 tables.\\r\\nnum_group2 - This is the second indexing column for depth=2 tables\\' historical records of case_id. The order of num_group1 and num_group2 is important and will be clarified in feature definitions.\\r\\nAll other raw columns in the tables serve as predictors. Their definitions can be found in the file feature_definitions.csv. For depth=0 tables, predictors can be directly used as features. However, for tables with depth>0, you may need to employ aggregation functions that will condense the historical records associated with each case_id into a single feature. In case num_group1 or num_group2 stands for person index (this is clear with predictor definitions) the zero index has special meaning. When num_groupN=0 it is the applicant (the person who applied for a loan).\\r\\n\\r\\nVarious predictors were transformed, therefore we have the following notation for similar groups of transformations\\r\\n\\r\\nP - Transform DPD (Days past due)\\r\\nM - Masking categories\\r\\nA - Transform amount\\r\\nD - Transform date\\r\\nT - Unspecified Transform\\r\\nL - Unspecified Transform\\r\\nPlease note that transformations within a group are denoted by a capital letter at the end of the predictor name (e.g., maxdbddpdtollast6m_4187119P). We hope that this will simplify the manipulation with predictors.\\r\\n\\r\\nEdits:\\r\\n\\r\\npmts_month_158T is for active contract\\r\\npmts_month_706T is for closed contract\\r\\ndateofcredstart_181D - Start date of a credit contract.\\r\\n\\r\\nFeature Description:\\r\\nactualdpd_943P: Days Past Due (DPD) of previous contract (actual).\\r\\nactualdpdtolerance_344P: DPD of client with tolerance.\\r\\naddres_district_368M: District of the person\\'s address.\\r\\naddres_role_871L: Role of person\\'s address.\\r\\naddres_zip_823M: Zip code of the address.\\r\\namount_1115A: Credit amount of the active contract provided by the credit bureau.\\r\\namount_416A: Deposit amount.\\r\\namount_4527230A: Tax deductions amount tracked by the government registry.\\r\\namount_4917619A: Tax deductions amount tracked by the government registry.\\r\\namtdebitincoming_4809443A: Incoming debit card transactions amount.\\r\\namtdebitoutgoing_4809440A: Outgoing debit card transactions amount.\\r\\namtdepositbalance_4809441A: Deposit balance of client.\\r\\namtdepositincoming_4809444A: Amount of incoming deposits to client\\'s account.\\r\\namtdepositoutgoing_4809442A: Amount of outgoing deposits from client\\'s account.\\r\\namtinstpaidbefduel24m_4187115A: Number of instalments paid before due date in the last 24 months.\\r\\nannualeffectiverate_199L: Interest rate of the closed contracts.\\r\\nannualeffectiverate_63L: Interest rate for the active contracts.\\r\\nannuity_780A: Monthly annuity amount.\\r\\nannuity_853A: Monthly annuity for previous applications.\\r\\nannuitynextmonth_57A: Next month\\'s amount of annuity.\\r\\napplicationcnt_361L: Number of applications associated with the same email address as the client.\\r\\napplications30d_658L: Number of applications made by the client in the last 30 days.\\r\\napplicationscnt_1086L: Number of applications associated with the same phone number.\\r\\napplicationscnt_464L: Number of applications made in the last 30 days by other clients with the same employer as the applicant.\\r\\napplicationscnt_629L: Number of applications with the same employer in the last 7 days.\\r\\napplicationscnt_867L: Number of applications associated with the same mobile phone.\\r\\napprovaldate_319D: Approval Date of Previous Application\\r\\nassignmentdate_238D: Tax authority data - date of assignment.\\r\\nassignmentdate_4527235D: Tax authority data - Date of assignment.\\r\\nassignmentdate_4955616D: Tax authority assignment date.\\r\\navgdbddpdlast24m_3658932P: Average days past or before due of payment during the last 24 months.\\r\\navgdbddpdlast3m_4187120P: Average days past or before due of payment during the last 3 months.\\r\\navgdbdtollast24m_4525197P: Average days of payment before due date within the last 24 months (with tolerance).\\r\\navgdpdtolclosure24_3658938P: \"Average DPD (days past due) with tolerance within the past 24 months from the maximum closure date:  assuming that the contract is finished. If the contract is ongoing:  the calculation is based on the current date.\"\\r\\navginstallast24m_3658937A: Average instalments paid by the client over the past 24 months.\\r\\navglnamtstart24m_4525187A: Average loan amount in the last 24 months.\\r\\navgmaxdpdlast9m_3716943P: Average Days Past Due (DPD) of the client in last 9 months.\\r\\navgoutstandbalancel6m_4187114A: Average outstanding balance of applicant for the last 6 months.\\r\\navgpmtlast12m_4525200A: Average of payments made by the client in the last 12 months.\\r\\nbankacctype_710L: Type of applicant\\'s bank account.\\r\\nbirth_259D: Date of birth of the person.\\r\\nbirthdate_574D: Client\\'s date of birth (credit bureau data).\\r\\nbirthdate_87D: Birth date of the person.\\r\\nbyoccupationinc_3656910L: Applicant\\'s income from previous applications.\\r\\ncacccardblochreas_147M: Card blocking reason.\\r\\ncancelreason_3545846M: Application cancellation reason.\\r\\ncardtype_51L: Type of credit card.\\r\\nchildnum_185L: Number of children of the applicant.\\r\\nchildnum_21L: Number of children in the previous application.\\r\\nclassificationofcontr_1114M: Classificiation of the active contract.\\r\\nclassificationofcontr_13M: Classificiation of the active contract.\\r\\nclassificationofcontr_400M: Classificiation of the closed contract.\\r\\nclientscnt_100L: Number of applications with matching employer\\'s phone and client\\'s.\\r\\nclientscnt_1022L: Number of clients sharing the same mobile phone.\\r\\nclientscnt_1071L: Number of applications where the alternative phone number matches that of the client.\\r\\nclientscnt_1130L: Number of applications where client\\'s phone number matches the alternative phone contact.\\r\\nclientscnt_136L: Number of applications associated with same email address as client\\'s email.\\r\\nclientscnt_157L: Number of clients whose employer has the same phone number as the client.\\r\\nclientscnt_257L: Number of clients that share an alternative phone number with the applicant.\\r\\nclientscnt_304L: Number of clients with the same phone number.\\r\\nclientscnt_360L: Number of clients that have the same alternative phone number and employer\\'s phone number.\\r\\nclientscnt_493L: Number of clients with matching phone numbers for both the employer and the client.\\r\\nclientscnt_533L: Number of clients with same client\\'s and alternative\\'s phone number\\r\\nclientscnt_887L: Number of clients sharing the same employer\\'s phone number.\\r\\nclientscnt_946L: Number of clients with matching mobile and employer\\'s number.\\r\\nclientscnt12m_3712952L: Number of clients that have used the same mobile phone as the applicant in the past 12 months.\\r\\nclientscnt3m_3712950L: Number of clients who have the same mobile phone number in the last 3 months.\\r\\nclientscnt6m_3712949L: Total number of clients who have used the same mobile number in the last 6 months.\\r\\ncntincpaycont9m_3716944L: Number of incoming payments in the past 9 months.\\r\\ncntpmts24_3658933L: Number of months with any incoming payment in last 24 months.\\r\\ncollater_typofvalofguarant_298M: Collateral valuation type (active contract).\\r\\ncollater_typofvalofguarant_407M: Collateral valuation type (closed contract).\\r\\ncollater_valueofguarantee_1124L: Value of collateral for active contract.\\r\\ncollater_valueofguarantee_876L: Value of collateral for closed contract.\\r\\ncollaterals_typeofguarante_359M: Type of collateral that was used as a guarantee for a closed contract.\\r\\ncollaterals_typeofguarante_669M: Collateral type for the active contract.\\r\\ncommnoinclast6m_3546845L: Number of communications indicating low income in the last six months.\\r\\ncontaddr_district_15M: Zip code of a contact person\\'s address.\\r\\ncontaddr_matchlist_1032L: Indicates whether the contact address is found in a code list.\\r\\ncontaddr_smempladdr_334L: Indicates whether the contact address is the same as the employment address.\\r\\ncontaddr_zipcode_807M: Zip code of contact address.\\r\\ncontractdate_551D: Contract date of the active contract\\r\\ncontractenddate_991D: End date of deposit contract.\\r\\ncontractmaturitydate_151D: End date of active contract.\\r\\ncontractssum_5085716L: Total sum of values of contracts retrieved from external credit bureau.\\r\\ncontractst_516M: Contract status.\\r\\ncontractst_545M: Contract status.\\r\\ncontractst_964M: Contract status of terminated credit contract.\\r\\ncontractsum_5085717L: Sum of other contract values.\\r\\ncontracttype_653M: Contract Type\\r\\nconts_role_79M: Type of contact role of a person.\\r\\nconts_type_509L: Person contact type in previous application.\\r\\ncreationdate_885D: Date when previous application was created.\\r\\ncredacc_actualbalance_314A: Actual balance on credit account.\\r\\ncredacc_cards_status_52L: Card status of the previous credit account.\\r\\ncredacc_credlmt_575A: Credit card credit limit provided for previous applications.\\r\\ncredacc_maxhisbal_375A: Maximal historical balance of previous credit account\\r\\ncredacc_minhisbal_90A: Minimum historical balance of previous credit accounts.\\r\\ncredacc_status_367L: Account status of previous credit applications.\\r\\ncredacc_transactions_402L: Number of transactions made with the previous credit account of the applicant.\\r\\ncredamount_590A: Loan amount or card limit of previous applications.\\r\\ncredamount_770A: Loan amount or credit card limit.\\r\\ncredlmt_1052A: Credit limit of an active loan.\\r\\ncredlmt_228A: Credit limit for closed loans.\\r\\ncredlmt_230A: Credit limit of the closed credit contracts from credit bureau.\\r\\ncredlmt_3940954A: Credit limit for active loan.\\r\\ncredlmt_935A: Credit limit for active loan.\\r\\ncredor_3940957M: Creditor\\'s name\\r\\ncredquantity_1099L: Number of credits in credit bureau\\r\\ncredquantity_984L: Number of closed credits in credit bureau.\\r\\ncredtype_322L: Type of credit.\\r\\ncredtype_587L: Credit type of previous application.\\r\\ncurrdebt_22A: Current debt amount of the client.\\r\\ncurrdebt_94A: Previous application\\'s current debt.\\r\\ncurrdebtcredtyperange_828A: Current amount of debt of the applicant.\\r\\ndateactivated_425D: Contract activation date of the applicant\\'s previous application.\\r\\ndatefirstoffer_1144D: Date of first customer relationship management (CRM) offer.\\r\\ndatelastinstal40dpd_247D: Date of last instalment that was more than 40 days past due (DPD).\\r\\ndatelastunpaid_3546854D: Date of the last unpaid instalment.\\r\\ndateofbirth_337D: Client\\'s date of birth.\\r\\ndateofbirth_342D: Client\\'s date of birth.\\r\\ndateofcredend_289D: End date of an active credit contract.\\r\\ndateofcredend_353D: End date of a closed credit contract.\\r\\ndateofcredstart_181D: Date when the credit contract was closed.\\r\\ndateofcredstart_739D: Start date of a closed credit contract.\\r\\ndateofrealrepmt_138D: Date of credit\\'s closure (contract termination date).\\r\\ndays120_123L: Number of credit bureau queries for the last 120 days.\\r\\ndays180_256L: Number of credit bureau queries for last 180 days.\\r\\ndays30_165L: Number of credit bureau queries for the last 30 days.\\r\\ndays360_512L: Number of Credit Bureau queries for last 360 days.\\r\\ndays90_310L: Number of credit bureau queries for the last 90 days.\\r\\ndaysoverduetolerancedd_3976961L: Number of days that past after the due date (with tolerance).\\r\\ndebtoutstand_525A: Outstanding amount of existing contract.\\r\\ndebtoverdue_47A: Amount that is currently past due on a client\\'s existing credit contract.\\r\\ndebtpastduevalue_732A: Amount of unpaid debt for existing contracts.\\r\\ndebtvalue_227A: Outstanding amount for existing debt contracts.\\r\\ndeductiondate_4917603D: Tax deduction date.\\r\\ndeferredmnthsnum_166L: Number of deferred months.\\r\\ndescription_351M: Categorization of clients by credit bureau.\\r\\ndescription_5085714M: Categorization of clients by credit bureau.\\r\\ndisbursedcredamount_1113A: Disbursed credit amount after consolidation.\\r\\ndisbursementtype_67L: Type of disbursement.\\r\\ndistrict_544M: District of the address used in the previous loan application.\\r\\ndownpmt_116A: Amount of downpayment.\\r\\ndownpmt_134A: Previous application downpayment amount.\\r\\ndpd_550P: The number of days past due for active loans where a guarantee has been provided.\\r\\ndpd_733P: Days past due (DPD) for guaranteed loans that were terminated according to credit bureau data.\\r\\ndpdmax_139P: Maximal days past due for active contract.\\r\\ndpdmax_757P: Maximum days past due for a closed contract.\\r\\ndpdmax_851P: Maximal past due days for active contracts in the credit bureau.\\r\\ndpdmaxdatemonth_442T: Max DPD occurrence month for terminated contracts from credit bureau data.\\r\\ndpdmaxdatemonth_804T: Month when the maximum Day Past Due (DPD) occurred for active contracts on credit bureau\\'s records.\\r\\ndpdmaxdatemonth_89T: Month when maximum days past due occurred on the active contract with the credit bureau.\\r\\ndpdmaxdateyear_596T: Year when maximum Days Past Due (DPD) occurred for the active contract.\\r\\ndpdmaxdateyear_742T: Year of the maximum Days Past Due (DPD) on an active credit contract in the credit bureau.\\r\\ndpdmaxdateyear_896T: Year of maximum Days Past Due of closed contract obtained from Credit Bureau.\\r\\ndtlastpmt_581D: Date of last payment made by the applicant.\\r\\ndtlastpmtallstes_3545839D: Date of the applicant\\'s last payment.\\r\\ndtlastpmtallstes_4499206D: Date of last payment made by the applicant.\\r\\neducation_1103M: Level of education of the client provided by external source.\\r\\neducation_1138M: Applicant\\'s education level from their previous application.\\r\\neducation_88M: Education level of the client.\\r\\neducation_927M: Education level of the person.\\r\\neir_270L: Interest rate.\\r\\nempl_employedfrom_271D: Start date of employment.\\r\\nempl_employedtotal_800L: Employment length of a person.\\r\\nempl_industry_691L: Employment Industry of the person.\\r\\nempladdr_district_926M: District where the employer\\'s address is located.\\r\\nempladdr_zipcode_114M: Zipcode of employer\\'s address.\\r\\nemployedfrom_700D: Employment start date from the previous application.\\r\\nemployername_160M: Employer\\'s name.\\r\\nempls_economicalst_849M: \"The economical status of the person (num_group1 - person:  num_group2 - employment).\"\\r\\nempls_employedfrom_796D: \"Start of employment (num_group1 - person:  num_group2 - employment).\"\\r\\nempls_employer_name_740M: \"Employer\\'s name (num_group1 - person:  num_group2 - employment).\"\\r\\nequalitydataagreement_891L: \"Flag indicating sudden changes in client\\'s social-demographic data (e.g. education:  family status:  housing type).\"\\r\\nequalityempfrom_62L: Flag indicating a sudden change in the client\\'s length of employment.\\r\\nfamilystate_447L: Family state of the person.\\r\\nfamilystate_726L: Family State in previous application of applicant.\\r\\nfinancialinstitution_382M: Name of financial institution that is linked to a closed contract.\\r\\nfinancialinstitution_591M: Financial institution name of the active contract.\\r\\nfirstclxcampaign_1125D: Date of the client\\'s first campaign.\\r\\nfirstdatedue_489D: Date of the first due date.\\r\\nfirstnonzeroinstldate_307D: Date of first instalment in the previous application.\\r\\nfirstquarter_103L: Number of results obtained from credit bureau in the first quarter.\\r\\nfor3years_128L: Number of rejected applications in the past 3 years.\\r\\nfor3years_504L: Client\\'s credit history data over the last three years.\\r\\nfor3years_584L: Number of cancellations in the last 3 years.\\r\\nformonth_118L: Number of rejections in a month.\\r\\nformonth_206L: Number of cancelations in the previous month.\\r\\nformonth_535L: Credit history for the last month.\\r\\nforquarter_1017L: Number of cancellations recorded in the credit bureau in the last quarter.\\r\\nforquarter_462L: Number of credit applications that were rejected in the last quarter.\\r\\nforquarter_634L: Credit history for the last quarter.\\r\\nfortoday_1092L: Client\\'s credit history for today.\\r\\nforweek_1077L: Number of cancelations in the last week.\\r\\nforweek_528L: Credit history for the last week.\\r\\nforweek_601L: Number of rejected applications in the last week.\\r\\nforyear_618L: Number of application rejections in the previous year.\\r\\nforyear_818L: Number of cancelations that occurred in last year.\\r\\nforyear_850L: Credit history for the last year.\\r\\nfourthquarter_440L: Number of results in fourth quarter.\\r\\ngender_992L: Gender of a person.\\r\\nhomephncnt_628L: Number of distinct home phones on client\\'s application.\\r\\nhousetype_905L: House type of the person.\\r\\nhousingtype_772L: Type of housing of the person.\\r\\nincometype_1044T: Type of income of the person\\r\\ninittransactionamount_650A: Initial transaction amount of the credit application.\\r\\ninittransactioncode_186L: Transaction type of the initial credit transaction.\\r\\ninittransactioncode_279L: Type of the initial transaction made in the previous application of the client.\\r\\ninstallmentamount_644A: Instalment amount of a closed and secured credit contract.\\r\\ninstallmentamount_833A: Instalment amount for a secured and active contract in credit bureau.\\r\\ninstlamount_768A: Instalment amount for the active contract in credit bureau.\\r\\ninstlamount_852A: Instalment amount for closed contract.\\r\\ninstlamount_892A: Instalment amount for active credit contract.\\r\\ninteresteffectiverate_369L: Interest rate on active contract.\\r\\ninterestrate_311L: The interest rate of the active credit contract.\\r\\ninterestrate_508L: Interest rate for a closed contract in the credit bureau.\\r\\ninterestrategrace_34L: Interest rate during the grace period.\\r\\ninterestrateyearly_538L: Annual interest rate for existing contract obtained from credit bureau.\\r\\nisbidproduct_1095L: Flag indicating if the product is a cross-sell.\\r\\nisbidproduct_390L: Flag for determining if the product is a cross-sell in previous applications.\\r\\nisbidproductrequest_292L: Flag indicating if the product is a cross-sell.\\r\\nisdebitcard_527L: Previous application flag indicating if product being applied for is a debit card.\\r\\nisdebitcard_729L: Flag indicating if the product is a debit card.\\r\\nisreference_387L: Flag indicating whether the person is a reference contact.\\r\\nlanguage1_981M: The primary language of the person.\\r\\nlast180dayaveragebalance_704A: Average balance on debit card in the last 180 days.\\r\\nlast180dayturnover_1134A: Debit card\\'s turnover within the last 180 days.\\r\\nlast30dayturnover_651A: Debit card turnover for the last 30 days.\\r\\nlastactivateddate_801D: Contract activation date for previous applications.\\r\\nlastapplicationdate_877D: Date of previous customer\\'s application.\\r\\nlastapprcommoditycat_1041M: Commodity category of the last loan applications made by the applicant.\\r\\nlastapprcommoditytypec_5251766M: Commodity type of the last application.\\r\\nlastapprcredamount_781A: Credit amount from the client\\'s last application.\\r\\nlastapprdate_640D: Date of approval on client\\'s most recent previous application.\\r\\nlastcancelreason_561M: Cancellation reason of the last application.\\r\\nlastdelinqdate_224D: Date of the last delinquency occurrence.\\r\\nlastdependentsnum_448L: Number of dependents in the client\\'s last loan application.\\r\\nlastotherinc_902A: Amount of other income reported by the client in their last application.\\r\\nlastotherlnsexpense_631A: Monthly expenses on other loans from the last application.\\r\\nlastrejectcommoditycat_161M: Category of commodity in the applicant\\'s last rejected application.\\r\\nlastrejectcommodtypec_5251769M: Commodity type of the last rejected application.\\r\\nlastrejectcredamount_222A: Credit amount on last rejected application.\\r\\nlastrejectdate_50D: Date of most recent rejected application by the applicant.\\r\\nlastrejectreason_759M: Reason for rejection on the most recent rejected application.\\r\\nlastrejectreasonclient_4145040M: Reason for the client\\'s last loan rejection.\\r\\nlastrepayingdate_696D: Date of the last payment made by the applicant.\\r\\nlastst_736L: Status of the client\\'s previous credit application.\\r\\nlastupdate_1112D: Date of last update for an active contract from credit bureau.\\r\\nlastupdate_260D: Last update date for the active contracts.\\r\\nlastupdate_388D: Date of last update for a closed contract in the credit bureau.\\r\\nmaininc_215A: Client\\'s primary income amount.\\r\\nmainoccupationinc_384A: Amount of the main income of the client.\\r\\nmainoccupationinc_437A: Client\\'s main income amount in their previous application.\\r\\nmaritalst_385M: Marital status of the client.\\r\\nmaritalst_703L: Marital status of the client.\\r\\nmaritalst_893M: Marital status of the client\\r\\nmastercontrelectronic_519L: Flag indicating the existence of the master contract for the client.\\r\\nmastercontrexist_109L: Flag indicating whether or not the applicant has an existing master contract.\\r\\nmaxannuity_159A: Maximum annuity previously obtained by client.\\r\\nmaxannuity_4075009A: Maximal annuity offered to the client in the current application.\\r\\nmaxdbddpdlast1m_3658939P: Maximum number of days past due in the last month. A negative value indicates the number of days before the due date.\\r\\nmaxdbddpdtollast12m_3658940P: Maximum number of days past due in last 12 months. A negative value implies days before due date.\\r\\nmaxdbddpdtollast6m_4187119P: Maximum number of days past due in last 6 months. This predictor takes the value as a negative number when it represents days before due date.\\r\\nmaxdebt4_972A: Maximal principal debt of the client in the history older than 4 months.\\r\\nmaxdebtpduevalodued_3940955A: Days past due at the time of the maximum debt.\\r\\nmaxdpdfrom6mto36m_3546853P: Maximum Days Past Due (DPD) in the period ranging from 6 to 36 months.\\r\\nmaxdpdinstldate_3546855D: Date of instalment on which client was most days past due.\\r\\nmaxdpdinstlnum_3546846P: Instalment number of which client was most days past due.\\r\\nmaxdpdlast12m_727P: Maximum days past due in the past 12 months.\\r\\nmaxdpdlast24m_143P: Maximal days past due in the last 24 months.\\r\\nmaxdpdlast3m_392P: Maximum number of days past due in last 3 months.\\r\\nmaxdpdlast6m_474P: Maximum days past due in the last 6 months.\\r\\nmaxdpdlast9m_1059P: Maximum days past due in last 9 months.\\r\\nmaxdpdtolerance_374P: Maximum number of days past due (with tolerance).\\r\\nmaxdpdtolerance_577P: Maximum DPD with tolerance (on previous application/s).\\r\\nmaxinstallast24m_3658928A: Maximum instalment in the last 24 months\\r\\nmaxlnamtstart6m_4525199A: Maximum loan amount started in the last 6 months.\\r\\nmaxoutstandbalancel12m_4187113A: Maximum outstanding balance in the last 12 months.\\r\\nmaxpmtlast3m_4525190A: Maximum payment made by the client in the last 3 months.\\r\\nmindbddpdlast24m_3658935P: Minimum days past due (or days before due) in last 24 months.\\r\\nmindbdtollast24m_4525191P: Minimum days before due in last 24 months.\\r\\nmobilephncnt_593L: Number of persons with the same mobile phone number.\\r\\nmonthlyinstlamount_332A: Monthly instalment amount for active contract.\\r\\nmonthlyinstlamount_674A: Monthly amount of instalment payment on a closed contract.\\r\\nmonthsannuity_845L: Monthly annuity amount for the applicant.\\r\\nname_4527232M: Name of employer.\\r\\nname_4917606M: Name of employer.\\r\\nnominalrate_281L: Interest rate of the active contract.\\r\\nnominalrate_498L: Interest rate for closed contract.\\r\\nnumactivecreds_622L: Number of active credits.\\r\\nnumactivecredschannel_414L: Number of active credits.\\r\\nnumactiverelcontr_750L: Number of active revolving credits.\\r\\nnumberofcontrsvalue_258L: Number of active contracts in credit bureau.\\r\\nnumberofcontrsvalue_358L: Number of closed credit contracts.\\r\\nnumberofinstls_229L: Number of instalments on closed contract.\\r\\nnumberofinstls_320L: Number of instalments of the active contract.\\r\\nnumberofinstls_810L: Number of instalments for the active contract.\\r\\nnumberofoutstandinstls_520L: Number of outstanding instalment for closed contract.\\r\\nnumberofoutstandinstls_59L: Number of outstanding instalments for the active contracts.\\r\\nnumberofoverdueinstlmax_1039L: Number of outstanding instalments for active contracts.\\r\\nnumberofoverdueinstlmax_1151L: Maximum number of past due installments for a closed contract.\\r\\nnumberofoverdueinstlmaxdat_148D: Date of maximum number of past due instalments for the closed contract.\\r\\nnumberofoverdueinstlmaxdat_641D: Date of maximum number of past due instalments for the active contract.\\r\\nnumberofoverdueinstls_725L: Maximum number of past due instalments for an active contract.\\r\\nnumberofoverdueinstls_834L: Number of past due instalments for a closed contract.\\r\\nnumberofqueries_373L: Number of queries to credit bureau.\\r\\nnumcontrs3months_479L: Number of contracts in last 3 months.\\r\\nnumincomingpmts_3546848L: Number of incoming payments.\\r\\nnuminstlallpaidearly3d_817L: Number of instalments paid at least 3 days prior to their due date.\\r\\nnuminstls_657L: Number of instalments.\\r\\nnuminstlsallpaid_934L: Number of paid instalments.\\r\\nnuminstlswithdpd10_728L: Number of instalments that were overdue for 10 or more days.\\r\\nnuminstlswithdpd5_4187116L: Number of instalments that were overdue by at least 5 days.\\r\\nnuminstlswithoutdpd_562L: Number of instalments that were not past due date.\\r\\nnuminstmatpaidtearly2d_4499204L: Number of instalments that have been paid more than 2 days before their due date.\\r\\nnuminstpaid_4499208L: Number of paid instalments.\\r\\nnuminstpaidearly_338L: Number of installments paid prior to the due date.\\r\\nnuminstpaidearly3d_3546850L: Number of instalments paid more than three days before the due date.\\r\\nnuminstpaidearly3dest_4493216L: Number of instalments that have been paid more than 3 days in advance of the due date.\\r\\nnuminstpaidearly5d_1087L: Number of instalments paid more than 5 days prior to the due date.\\r\\nnuminstpaidearly5dest_4493211L: Number of instalments that were paid more than 5 days before the due date.\\r\\nnuminstpaidearly5dobd_4499205L: Number of installments paid more than 5 days prior to the due date.\\r\\nnuminstpaidearlyest_4493214L: Number of instalments paid before the due date.\\r\\nnuminstpaidlastcontr_4325080L: Number of paid installments from the client\\'s last contract.\\r\\nnuminstpaidlate1d_3546852L: Number of instalments paid more than 1 day past their due date.\\r\\nnuminstregularpaid_973L: Number of fully paid regular installments in the client\\'s previous contracts.\\r\\nnuminstregularpaidest_4493210L: Number of fully paid regular installments on clients\\' previous contracts.\\r\\nnuminsttopaygr_769L: Number of unpaid instalments.\\r\\nnuminsttopaygrest_4493213L: Number of unpaid instalments.\\r\\nnuminstunpaidmax_3546851L: Maximum number of unpaid instalments.\\r\\nnuminstunpaidmaxest_4493212L: Maximum number of unpaid instalments.\\r\\nnumnotactivated_1143L: Number of non-activated credits.\\r\\nnumpmtchanneldd_318L: Number of previous loan contracts for the applicant that had direct debit as payment channel.\\r\\nnumrejects9m_859L: Number of credit applications that were rejected in the last 9 months.\\r\\nopencred_647L: Number of active loans from the previous application.\\r\\nopeningdate_313D: Deposit account opening date.\\r\\nopeningdate_857D: Debit card opening date.\\r\\noutstandingamount_354A: Outstanding amount for closed credit contract in credit bureau.\\r\\noutstandingamount_362A: Active contract\\'s outstanding amount.\\r\\noutstandingdebt_522A: Amount of outstanding debt on the client\\'s previous application.\\r\\noverdueamount_31A: Past due amount for a closed contract.\\r\\noverdueamount_659A: Past due amount for active contract.\\r\\noverdueamountmax_155A: Maximal past due amount for active contract.\\r\\noverdueamountmax_35A: Maximal past due amount for a closed contract.\\r\\noverdueamountmax_950A: Maximal past due amount for active contract.\\r\\noverdueamountmax2_14A: Maximal past due amount for an active contract.\\r\\noverdueamountmax2_398A: Maximal overdue amount for a closed contract.\\r\\noverdueamountmax2date_1002D: Date of maximal past due amount for a closed contract\\r\\noverdueamountmax2date_1142D: Date of maximal past due amount for an active contract.\\r\\noverdueamountmaxdatemonth_284T: Month when the maximum past due amount occurred for a closed contract.\\r\\noverdueamountmaxdatemonth_365T: Month when maximum past due amount occurred for an active contract.\\r\\noverdueamountmaxdatemonth_494T: Month when the maximum past due amount was recorded for an active contract with the credit bureau.\\r\\noverdueamountmaxdateyear_2T: Year when the maximum past due amount occurred for active contracts.\\r\\noverdueamountmaxdateyear_432T: Year when max past due amount occurred for active contract.\\r\\noverdueamountmaxdateyear_994T: Year when maximum past due amount occurred for closed contract.\\r\\npaytype_783L: Type of payment.\\r\\npaytype1st_925L: Type of first payment of the client.\\r\\npayvacationpostpone_4187118D: Date of last payment holiday instalment.\\r\\npctinstlsallpaidearl3d_427L: Percentage of installments paid at least 3 days prior to the due date.\\r\\npctinstlsallpaidlat10d_839L: Percentage of installments that were paid 10 or more days after the due date.\\r\\npctinstlsallpaidlate1d_3546856L: Percentage of installments that are paid 1 or more days after the due date.\\r\\npctinstlsallpaidlate4d_3546849L: Percentage of installments that were paid 4 or more days past their due date.\\r\\npctinstlsallpaidlate6d_3546844L: Percentage of installments that were paid 6 or more days past their due date.\\r\\nperiodicityofpmts_1102L: Frequency of instalments for a closed contract.\\r\\nperiodicityofpmts_837L: Frequency of instalments for an active contract.\\r\\nperiodicityofpmts_997L: Frequency of instalments for active credit contracts.\\r\\nperiodicityofpmts_997M: Frequency of instalments for active credit contracts.\\r\\npersonindex_1023L: Order of the person specified on the application form.\\r\\npersontype_1072L: Person type.\\r\\npersontype_792L: Person type.\\r\\npmtamount_36A: Tax deductions amount for credit bureau payments.\\r\\npmtaverage_3A: Average of tax deductions.\\r\\npmtaverage_4527227A: Average of tax deductions.\\r\\npmtaverage_4955615A: Average of tax deductions.\\r\\npmtcount_4527229L: Number of tax deductions.\\r\\npmtcount_4955617L: Number of tax deductions.\\r\\npmtcount_693L: Number of tax deductions.\\r\\npmtdaysoverdue_1135P: Number of days past due for existing contracts in the credit bureau.\\r\\npmtmethod_731M: Instalment payment method for existing contract in credit bureau.\\r\\npmtnum_254L: Total number of loan payments made by the client.\\r\\npmtnum_8L: Number of payments made for the previous application.\\r\\npmtnumpending_403L: Number of pending payments for active contract.\\r\\npmts_date_1107D: \"Payment date for an active contract according to credit bureau (num_group1 - contract:  num_group2 - payment).\"\\r\\npmts_dpd_1073P: \"Days past due of the payment for the active contract (num_group1 - existing contract:  num_group2 - payment).\"\\r\\npmts_dpd_303P: \"Days past due of the payment for terminated contract according to credit bureau (num_group1 - terminated contract:  num_group2 - payment).\"\\r\\npmts_dpdvalue_108P: \"Value of past due payment for active contract (num_group1 - existing contract:  num_group2 - payment).\"\\r\\npmts_month_158T: \"Month of payment for a closed contract (num_group1 - existing contract:  num_group2 - payment).\"\\r\\npmts_month_706T: \"Month of payment for active contract (num_group1 - terminated contract:  num_group2 - payment).\"\\r\\npmts_overdue_1140A: \"Overdue payment for an active contract (num_group1 - existing contract:  num_group2 - payment).\"\\r\\npmts_overdue_1152A: \"Overdue payment for a closed contract (num_group1 - terminated contract:  num_group2 - payment).\"\\r\\npmts_pmtsoverdue_635A: \"Active contract that has overdue payments (num_group1 - existing contract:  num_group2 - payment).\"\\r\\npmts_year_1139T: \"Year of payment for an active contract (num_group1 - existing contract:  num_group2 - payment).\"\\r\\npmts_year_507T: \"Payment year for a closed credit contract (num_group1 - terminated contract:  num_group2 - payment).\"\\r\\npmtscount_423L: Number of tax deduction payments.\\r\\npmtssum_45A: Sum of tax deductions for the client.\\r\\nposfpd10lastmonth_333P: Average FPD10 (Share of contracts with first installment past due more than 10 days) from point of sales that processed contract in the previous month.\\r\\nposfpd30lastmonth_3976960P: Average FPD30 (Share of contracts with first installment past due more than 30 days) from point of sales that processed contract in the previous month.\\r\\nposfstqpd30lastmonth_3976962P: \"Average FSTPD30 (share of contracts with first:  second:  or third installment past due more than 30 days) from point of sale that processed contract in the last month.\"\\r\\npostype_4733339M: Type of point of sale.\\r\\npreviouscontdistrict_112M: Contact district of the client\\'s previous approved application.\\r\\nprice_1097A: Credit price.\\r\\nprocessingdate_168D: Date when the tax deduction is processed.\\r\\nprofession_152M: Profession of the client during their previous loan application.\\r\\nprolongationcount_1120L: Count of prolongations on terminated contract according to credit bureau.\\r\\nprolongationcount_599L: Count of active contract prolongations.\\r\\npurposeofcred_426M: Purpose of credit for active contract.\\r\\npurposeofcred_722M: Purpose of credit for active contracts.\\r\\npurposeofcred_874M: Purpose of credit on a closed contract.\\r\\nrecorddate_4527225D: Date of tax deduction record.\\r\\nrefreshdate_3813885D: Date when the credit bureau\\'s public sources have been last updated.\\r\\nregistaddr_district_1083M: District of person\\'s registered address.\\r\\nregistaddr_zipcode_184M: Registered address\\'s zip code of a person.\\r\\nrejectreason_755M: Reason for previous application rejection.\\r\\nrejectreasonclient_4145042M: Reason for rejection of the client\\'s previous application.\\r\\nrelatedpersons_role_762T: \"Relationship type of a client\\'s related person (num_group1 - person:  num_group2 - related person).\"\\r\\nrelationshiptoclient_415T: Relationship to the client.\\r\\nrelationshiptoclient_642T: Relationship to the client.\\r\\nremitter_829L: Flag indicating whether the client is a remitter.\\r\\nrequesttype_4525192L: Tax authority request type.\\r\\nresidualamount_1093A: Residual amount of closed guarantee contract.\\r\\nresidualamount_127A: Residual amount of active guarantee contract.\\r\\nresidualamount_3940956A: Residual amount for the active contract.\\r\\nresidualamount_488A: Residual amount of a closed contract.\\r\\nresidualamount_856A: Residual amount for the active contract.\\r\\nresponsedate_1012D: Tax authority\\'s response date.\\r\\nresponsedate_4527233D: Tax authority\\'s response date.\\r\\nresponsedate_4917613D: Tax authority\\'s response date.\\r\\nrevolvingaccount_394A: Revolving account that was present in the applicant\\'s previous application.\\r\\nriskassesment_302T: Estimated probability that the client will default on their credit obligation within the next year.\\r\\nriskassesment_940T: Estimate of client\\'s creditworthiness.\\r\\nrole_1084L: Type of contact role.\\r\\nrole_993L: Person\\'s role.\\r\\nsafeguarantyflag_411L: Flag indicating if client is using a flexible product with additional safeguard garanty.\\r\\nscore_940: Estimate of client\\'s creditworthiness.\\r\\nsecondquarter_766L: Number of results in second quarter.\\r\\nsellerplacecnt_915L: Number of sellerplaces where the same client\\'s document was used.\\r\\nsellerplacescnt_216L: Number of sellerplaces where the same client\\'s mobile phone was used.\\r\\nsex_738L: Gender of the client.\\r\\nstatus_219L: Previous application status.\\r\\nsubjectrole_182M: Subject role in active credit contract.\\r\\nsubjectrole_326M: Subject role in active credit contract.\\r\\nsubjectrole_43M: Subject role in closed credit contract.\\r\\nsubjectrole_93M: Subject role in closed credit contract.\\r\\nsubjectroles_name_541M: \"Name of subject role in closed credit contract (num_group1 - terminated contract:  num_group2 - subject roles).\"\\r\\nsubjectroles_name_838M: \"Name of subject role in active credit contract (num_group1 - existing contract:  num_group2 - subject roles).\"\\r\\nsumoutstandtotal_3546847A: Sum of total outstanding amount.\\r\\nsumoutstandtotalest_4493215A: Sum of total outstanding amount.\\r\\ntenor_203L: Number of instalments in the previous application.\\r\\nthirdquarter_1082L: Number of results in third quarter.\\r\\ntotalamount_503A: Total amount of active secured credit for a client.\\r\\ntotalamount_6A: Total amount of closed contracts.\\r\\ntotalamount_881A: Total amount of secured credit from closed contracts.\\r\\ntotalamount_996A: Total amount of active contracts in the credit bureau.\\r\\ntotaldebt_9A: Total amount of debt.\\r\\ntotaldebtoverduevalue_178A: Total amount of past due debt on active contracts.\\r\\ntotaldebtoverduevalue_718A: Total overdue debt amount for closed credit contracts.\\r\\ntotaloutstanddebtvalue_39A: Total outstanding debt for active contracts in the credit bureau.\\r\\ntotaloutstanddebtvalue_668A: Total outstanding debt for the closed contracts in the credit bureau.\\r\\ntotalsettled_863A: Sum of all payments made by the client.\\r\\ntotinstallast1m_4525188A: Total amount of monthly instalments paid in the previous month.\\r\\ntwobodfilling_608L: Type of application process.\\r\\ntype_25L: Contact type of a person.\\r\\ntypesuite_864L: Persons accompanying the client during the loan application process.\\r\\nvalidfrom_1069D: Date since the client has an active campaign.\\r\\n', start_char_idx=None, end_char_idx=None, text_template='{metadata_str}\\n\\n{content}', metadata_template='{key}: {value}', metadata_seperator='\\n')]"
      ]
     },
     "execution_count": 41,
     "metadata": {},
     "output_type": "execute_result"
    }
   ],
   "source": [
    "documents"
   ]
  },
  {
   "cell_type": "code",
   "execution_count": 42,
   "metadata": {},
   "outputs": [],
   "source": [
    "from llama_index.core import Settings\n",
    "\n",
    "# initialize settings (set chunk size)\n",
    "Settings.chunk_size = 1024\n",
    "nodes = Settings.node_parser.get_nodes_from_documents(documents)"
   ]
  },
  {
   "cell_type": "code",
   "execution_count": 43,
   "metadata": {},
   "outputs": [],
   "source": [
    "# initialize storage context (by default it's in-memory)\n",
    "storage_context = StorageContext.from_defaults()\n",
    "storage_context.docstore.add_documents(nodes)"
   ]
  },
  {
   "cell_type": "code",
   "execution_count": 44,
   "metadata": {},
   "outputs": [],
   "source": [
    "summary_index = SummaryIndex(nodes, storage_context=storage_context)\n",
    "vector_index = VectorStoreIndex(nodes, storage_context=storage_context)"
   ]
  },
  {
   "cell_type": "code",
   "execution_count": 47,
   "metadata": {},
   "outputs": [],
   "source": [
    "from llama_index.llms.openai import OpenAI\n",
    "from llama_index.core.retrievers import VectorIndexAutoRetriever\n",
    "from llama_index.core.vector_stores import MetadataInfo, VectorStoreInfo\n",
    "from llama_index.core.query_engine import RetrieverQueryEngine\n",
    "\n",
    "\n",
    "vector_store_info = VectorStoreInfo(\n",
    "    content_info=\"document about all of the Table information.\",\n",
    "    metadata_info=[\n",
    "        MetadataInfo(\n",
    "            name=\"title\", type=\"str\", description=\"information about the table\"\n",
    "        ),\n",
    "    ],\n",
    ")\n",
    "vector_auto_retriever = VectorIndexAutoRetriever(\n",
    "    vector_index, vector_store_info=vector_store_info\n",
    ")\n",
    "\n",
    "retriever_query_engine = RetrieverQueryEngine.from_args(\n",
    "    vector_auto_retriever, llm=OpenAI(model=\"gpt-3.5-turbo\")\n",
    ")"
   ]
  },
  {
   "cell_type": "code",
   "execution_count": 48,
   "metadata": {},
   "outputs": [],
   "source": [
    "from llama_index.core.tools import QueryEngineTool\n",
    "\n",
    "vector_tool = QueryEngineTool.from_defaults(\n",
    "    query_engine=retriever_query_engine,\n",
    "    description=(\n",
    "        f\"Useful for answering semantic questions about the table, e.g. describtions, columns describtions\"\n",
    "    ),\n",
    ")"
   ]
  },
  {
   "cell_type": "code",
   "execution_count": null,
   "metadata": {},
   "outputs": [],
   "source": [
    "from llama_index.core.query_engine import SQLAutoVectorQueryEngine\n",
    "\n",
    "auto_query_engine = SQLAutoVectorQueryEngine(\n",
    "    sql_tool, vector_tool, llm=OpenAI(model=\"gpt-3.5-turbo\")\n",
    ")"
   ]
  },
  {
   "cell_type": "code",
   "execution_count": 31,
   "metadata": {},
   "outputs": [
    {
     "name": "stdout",
     "output_type": "stream",
     "text": [
      "\u001b[1;3;34mQuerying SQL database: The question requires obtaining a value from a table using SQL commands, which is necessary to find the maximum value of maximum amounts across the tax registries table.\n",
      "\u001b[0m\u001b[1;3;33mSQL query: SELECT MAX(amount_4917619A) AS max_amount\n",
      "FROM tax_registry_b\n",
      "UNION\n",
      "SELECT MAX(amount_4527230A) AS max_amount\n",
      "FROM tax_registry_a\n",
      "UNION\n",
      "SELECT MAX(pmtamount_36A) AS max_amount\n",
      "FROM tax_registry_c;\n",
      "\u001b[0m\u001b[1;3;33mSQL response: The maximum value of maximum amounts across the tax registries table is $344,250.00.\n",
      "\u001b[0m\u001b[1;3;34mTransformed query given SQL response: None\n",
      "\u001b[0m"
     ]
    },
    {
     "data": {
      "text/plain": [
       "Response(response='The maximum value of maximum amounts across the tax registries table is $344,250.00.', source_nodes=[NodeWithScore(node=TextNode(id_='ec6bd576-d0a4-4947-a87f-244f0332600b', embedding=None, metadata={}, excluded_embed_metadata_keys=[], excluded_llm_metadata_keys=[], relationships={}, text='[(87115.6,), (344250.0,)]', start_char_idx=None, end_char_idx=None, text_template='{metadata_str}\\n\\n{content}', metadata_template='{key}: {value}', metadata_seperator='\\n'), score=None)], metadata={'ec6bd576-d0a4-4947-a87f-244f0332600b': {}, 'sql_query': 'SELECT MAX(amount_4917619A) AS max_amount\\nFROM tax_registry_b\\nUNION\\nSELECT MAX(amount_4527230A) AS max_amount\\nFROM tax_registry_a\\nUNION\\nSELECT MAX(pmtamount_36A) AS max_amount\\nFROM tax_registry_c;', 'result': [(87115.6,), (344250.0,)], 'col_keys': ['max_amount']})"
      ]
     },
     "execution_count": 31,
     "metadata": {},
     "output_type": "execute_result"
    }
   ],
   "source": [
    "auto_query_engine.query(\"what is the maximum value of maximum amounts across the tax registries table\")"
   ]
  },
  {
   "cell_type": "code",
   "execution_count": 33,
   "metadata": {},
   "outputs": [],
   "source": [
    "from llama_index.core.indices.struct_store import SQLTableRetrieverQueryEngine\n",
    "table_retreiver_query_engine = SQLTableRetrieverQueryEngine(\n",
    "    sql_database,\n",
    "    retriever_query_engine,\n",
    ")"
   ]
  },
  {
   "cell_type": "code",
   "execution_count": null,
   "metadata": {},
   "outputs": [],
   "source": [
    "table_retreiver_query_engine.query(\"what is the maximum value of maximum amounts across the tax registries table\")"
   ]
  },
  {
   "cell_type": "markdown",
   "metadata": {},
   "source": [
    "# **FLARE**"
   ]
  },
  {
   "cell_type": "code",
   "execution_count": 76,
   "metadata": {},
   "outputs": [],
   "source": [
    "from llama_index.core.query_engine import FLAREInstructQueryEngine\n",
    "\n",
    "flare_query_engine = FLAREInstructQueryEngine(\n",
    "    query_engine=vector_index.as_query_engine(similarity_top_k=2),\n",
    "    max_iterations=7,\n",
    "    verbose=True,\n",
    ")"
   ]
  },
  {
   "cell_type": "code",
   "execution_count": 79,
   "metadata": {},
   "outputs": [
    {
     "name": "stdout",
     "output_type": "stream",
     "text": [
      "\u001b[1;3;32mQuery: If I were to create a ml which table and columns I should be include.\n",
      "\u001b[0m\u001b[1;3;34mCurrent response: \n",
      "\u001b[0m\u001b[1;3;38;5;200mLookahead response: [Search(What are the essential components of a machine learning model?)]\n",
      "\u001b[0m\u001b[1;3;38;5;200mUpdated lookahead response: The essential components of a machine learning model typically include data preprocessing, feature selection, model selection, model training, model evaluation, and model deployment. These components are crucial for developing an effective and accurate machine learning model.\n",
      "\u001b[0m\u001b[1;3;34mCurrent response:  The essential components of a machine learning model typically include data preprocessing, feature selection, model selection, model training, model evaluation, and model deployment. These components are crucial for developing an effective and accurate machine learning model.\n",
      "\u001b[0m\u001b[1;3;38;5;200mLookahead response: [Search(What are the essential components of a machine learning model?)]\n",
      "\u001b[0m\u001b[1;3;38;5;200mUpdated lookahead response: The essential components of a machine learning model typically include features (predictors), a target variable (what the model aims to predict), a training dataset to build the model, a validation dataset to tune the model's hyperparameters, an algorithm to learn patterns from the data, and an evaluation metric to assess the model's performance. Additionally, preprocessing steps such as data cleaning, feature engineering, and normalization are crucial components in preparing the data for the model.\n",
      "\u001b[0m\u001b[1;3;34mCurrent response: The essential components of a machine learning model typically include data preprocessing, feature selection, model selection, model training, model evaluation, and model deployment. These components are crucial for developing an effective and accurate machine learning model. The essential components of a machine learning model typically include features (predictors), a target variable (what the model aims to predict), a training dataset to build the model, a validation dataset to tune the model's hyperparameters, an algorithm to learn patterns from the data, and an evaluation metric to assess the model's performance. Additionally, preprocessing steps such as data cleaning, feature engineering, and normalization are crucial components in preparing the data for the model.\n",
      "\u001b[0m\u001b[1;3;38;5;200mLookahead response: To create a machine learning model, you should include features (predictors), a target variable (what the model aims to predict), a training dataset to build the model, a validation dataset to tune the model's hyperparameters, an algorithm to learn patterns from the data, and an evaluation metric to assess the model's performance.\n",
      "\u001b[0m\u001b[1;3;38;5;200mUpdated lookahead response: To create a machine learning model, you should include features (predictors), a target variable (what the model aims to predict), a training dataset to build the model, a validation dataset to tune the model's hyperparameters, an algorithm to learn patterns from the data, and an evaluation metric to assess the model's performance.\n",
      "\u001b[0m\u001b[1;3;34mCurrent response: The essential components of a machine learning model typically include data preprocessing, feature selection, model selection, model training, model evaluation, and model deployment. These components are crucial for developing an effective and accurate machine learning model. The essential components of a machine learning model typically include features (predictors), a target variable (what the model aims to predict), a training dataset to build the model, a validation dataset to tune the model's hyperparameters, an algorithm to learn patterns from the data, and an evaluation metric to assess the model's performance. Additionally, preprocessing steps such as data cleaning, feature engineering, and normalization are crucial components in preparing the data for the model. To create a machine learning model, you should include features (predictors), a target variable (what the model aims to predict), a training dataset to build the model, a validation dataset to tune the model's hyperparameters, an algorithm to learn patterns from the data, and an evaluation metric to assess the model's performance.\n",
      "\u001b[0m\u001b[1;3;38;5;200mLookahead response: [Search(What are some common preprocessing steps in machine learning?)]\n",
      "\u001b[0m\u001b[1;3;38;5;200mUpdated lookahead response: Some common preprocessing steps in machine learning include handling missing values, encoding categorical variables, scaling numerical features, splitting the data into training and testing sets, and handling outliers. Additionally, feature selection, normalization, and standardization are also common preprocessing steps to prepare the data for machine learning models.\n",
      "\u001b[0m\u001b[1;3;34mCurrent response: The essential components of a machine learning model typically include data preprocessing, feature selection, model selection, model training, model evaluation, and model deployment. These components are crucial for developing an effective and accurate machine learning model. The essential components of a machine learning model typically include features (predictors), a target variable (what the model aims to predict), a training dataset to build the model, a validation dataset to tune the model's hyperparameters, an algorithm to learn patterns from the data, and an evaluation metric to assess the model's performance. Additionally, preprocessing steps such as data cleaning, feature engineering, and normalization are crucial components in preparing the data for the model. To create a machine learning model, you should include features (predictors), a target variable (what the model aims to predict), a training dataset to build the model, a validation dataset to tune the model's hyperparameters, an algorithm to learn patterns from the data, and an evaluation metric to assess the model's performance. Some common preprocessing steps in machine learning include handling missing values, encoding categorical variables, scaling numerical features, splitting the data into training and testing sets, and handling outliers. Additionally, feature selection, normalization, and standardization are also common preprocessing steps to prepare the data for machine learning models.\n",
      "\u001b[0m\u001b[1;3;38;5;200mLookahead response: You should also include cross-validation techniques to ensure the model's generalizability and avoid overfitting.\n",
      "\u001b[0m\u001b[1;3;38;5;200mUpdated lookahead response: I don't have an answer.\n",
      "\u001b[0m\u001b[1;3;34mCurrent response: The essential components of a machine learning model typically include data preprocessing, feature selection, model selection, model training, model evaluation, and model deployment. These components are crucial for developing an effective and accurate machine learning model. The essential components of a machine learning model typically include features (predictors), a target variable (what the model aims to predict), a training dataset to build the model, a validation dataset to tune the model's hyperparameters, an algorithm to learn patterns from the data, and an evaluation metric to assess the model's performance. Additionally, preprocessing steps such as data cleaning, feature engineering, and normalization are crucial components in preparing the data for the model. To create a machine learning model, you should include features (predictors), a target variable (what the model aims to predict), a training dataset to build the model, a validation dataset to tune the model's hyperparameters, an algorithm to learn patterns from the data, and an evaluation metric to assess the model's performance. Some common preprocessing steps in machine learning include handling missing values, encoding categorical variables, scaling numerical features, splitting the data into training and testing sets, and handling outliers. Additionally, feature selection, normalization, and standardization are also common preprocessing steps to prepare the data for machine learning models. I don't have an answer.\n",
      "\u001b[0m\u001b[1;3;38;5;200mLookahead response: [Search(What are some common preprocessing steps in machine learning?)]\n",
      "\u001b[0m\u001b[1;3;38;5;200mUpdated lookahead response: Some common preprocessing steps in machine learning include handling missing values, encoding categorical variables, scaling features, splitting the data into training and testing sets, and handling imbalanced datasets. Other steps may involve feature selection, normalization, and handling outliers.\n",
      "\u001b[0m\u001b[1;3;34mCurrent response: The essential components of a machine learning model typically include data preprocessing, feature selection, model selection, model training, model evaluation, and model deployment. These components are crucial for developing an effective and accurate machine learning model. The essential components of a machine learning model typically include features (predictors), a target variable (what the model aims to predict), a training dataset to build the model, a validation dataset to tune the model's hyperparameters, an algorithm to learn patterns from the data, and an evaluation metric to assess the model's performance. Additionally, preprocessing steps such as data cleaning, feature engineering, and normalization are crucial components in preparing the data for the model. To create a machine learning model, you should include features (predictors), a target variable (what the model aims to predict), a training dataset to build the model, a validation dataset to tune the model's hyperparameters, an algorithm to learn patterns from the data, and an evaluation metric to assess the model's performance. Some common preprocessing steps in machine learning include handling missing values, encoding categorical variables, scaling numerical features, splitting the data into training and testing sets, and handling outliers. Additionally, feature selection, normalization, and standardization are also common preprocessing steps to prepare the data for machine learning models. I don't have an answer. Some common preprocessing steps in machine learning include handling missing values, encoding categorical variables, scaling features, splitting the data into training and testing sets, and handling imbalanced datasets. Other steps may involve feature selection, normalization, and handling outliers.\n",
      "\u001b[0m\u001b[1;3;38;5;200mLookahead response: [Search(What are some common preprocessing steps in machine learning?)]\n",
      "\u001b[0m\u001b[1;3;38;5;200mUpdated lookahead response: Some common preprocessing steps in machine learning include handling missing data, encoding categorical variables, scaling numerical features, splitting the data into training and testing sets, and handling imbalanced datasets through techniques like oversampling or undersampling. Additionally, feature selection, normalization, and handling outliers are also common preprocessing steps in machine learning workflows.\n",
      "\u001b[0m"
     ]
    }
   ],
   "source": [
    "response = flare_query_engine.query(\"If I were to create a ml which table and columns I should be include.\")"
   ]
  },
  {
   "cell_type": "markdown",
   "metadata": {},
   "source": [
    "# **Multi-Step Query Engine**"
   ]
  },
  {
   "cell_type": "code",
   "execution_count": 13,
   "metadata": {},
   "outputs": [],
   "source": [
    "\n",
    "from llama_index.core import VectorStoreIndex, SimpleDirectoryReader"
   ]
  },
  {
   "cell_type": "code",
   "execution_count": 14,
   "metadata": {},
   "outputs": [],
   "source": [
    "documents = SimpleDirectoryReader(\"../../misc/data_description\").load_data()"
   ]
  },
  {
   "cell_type": "code",
   "execution_count": 16,
   "metadata": {},
   "outputs": [],
   "source": [
    "\n",
    "gpt35 = OpenAI(temperature=0, model=\"gpt-3.5-turbo\")"
   ]
  },
  {
   "cell_type": "code",
   "execution_count": 17,
   "metadata": {},
   "outputs": [],
   "source": [
    "index = VectorStoreIndex.from_documents(documents)"
   ]
  },
  {
   "cell_type": "code",
   "execution_count": null,
   "metadata": {},
   "outputs": [],
   "source": [
    "# set Logging to DEBUG for more detailed outputs\n",
    "from llama_index.core.query_engine import MultiStepQueryEngine\n",
    "\n",
    "query_engine = index.as_query_engine(llm=gpt35)\n",
    "query_engine = MultiStepQueryEngine(\n",
    "    query_engine=query_engine,\n",
    "    query_transform=step_decompose_transform,\n",
    "    index_summary=index_summary,\n",
    ")\n",
    "response_gpt4 = query_engine.query(\n",
    "    \"Who was in the first batch of the accelerator program the author\"\n",
    "    \" started?\",\n",
    ")"
   ]
  },
  {
   "cell_type": "markdown",
   "metadata": {},
   "source": [
    "# **ROUTER**"
   ]
  },
  {
   "cell_type": "markdown",
   "metadata": {},
   "source": [
    "## Setup Tools"
   ]
  },
  {
   "cell_type": "code",
   "execution_count": 45,
   "metadata": {},
   "outputs": [],
   "source": [
    "from llama_index.core.tools import QueryEngineTool\n",
    "\n",
    "\n",
    "table_tool = QueryEngineTool.from_defaults(\n",
    "    query_engine=table_retreiver_query_engine,\n",
    "    description=(\n",
    "        \"Useful when the query is simple or have 1 question and require to run SQL command to get information from the tables in the database\"\n",
    "    ),\n",
    ")\n",
    "\n",
    "subquery_tool = QueryEngineTool.from_defaults(\n",
    "    query_engine=subquery_engine,\n",
    "    description=(\n",
    "        \"Useful when the queries is complicate or have multiple questions and require to run sql command to get information from the tables in the database\"\n",
    "    ),\n",
    ")"
   ]
  },
  {
   "cell_type": "code",
   "execution_count": 46,
   "metadata": {},
   "outputs": [],
   "source": [
    "from llama_index.core.query_engine import RouterQueryEngine\n",
    "from llama_index.core.selectors import LLMSingleSelector, LLMMultiSelector\n",
    "from llama_index.core.selectors import (\n",
    "    PydanticMultiSelector,\n",
    "    PydanticSingleSelector,\n",
    ")\n",
    "\n",
    "\n",
    "query_engine = RouterQueryEngine(\n",
    "    selector=PydanticSingleSelector.from_defaults(),\n",
    "    query_engine_tools=[\n",
    "        table_tool,\n",
    "        subquery_tool,\n",
    "    ],\n",
    ")"
   ]
  },
  {
   "cell_type": "code",
   "execution_count": 47,
   "metadata": {},
   "outputs": [
    {
     "name": "stdout",
     "output_type": "stream",
     "text": [
      "Generated 2 sub questions.\n",
      "\u001b[1;3;38;2;237;90;200m[credit_data] Q: What is the case_id with the highest credit limit?\n",
      "\u001b[0m\u001b[1;3;38;2;90;149;237m[credit_data] Q: How many persons have the case_id with the highest credit limit?\n",
      "\u001b[0m\u001b[1;3;38;2;237;90;200m[credit_data] A: The case_id with the highest credit limit is 839373, with a credit limit of 796,800,000.0.\n",
      "\u001b[0m\u001b[1;3;38;2;90;149;237m[credit_data] A: There is only 1 person with the case_id that has the highest credit limit.\n",
      "\u001b[0m**********\n",
      "Trace: query\n",
      "    |_CBEventType.QUERY -> 7.659772 seconds\n",
      "      |_CBEventType.LLM -> 1.452533 seconds\n",
      "      |_CBEventType.QUERY -> 6.182853 seconds\n",
      "        |_CBEventType.LLM -> 1.197857 seconds\n",
      "        |_CBEventType.SUB_QUESTION -> 3.96513 seconds\n",
      "          |_CBEventType.TEMPLATING -> 0.0 seconds\n",
      "          |_CBEventType.LLM -> 2.167574 seconds\n",
      "          |_CBEventType.SYNTHESIZE -> 0.855232 seconds\n",
      "            |_CBEventType.TEMPLATING -> 0.0 seconds\n",
      "            |_CBEventType.LLM -> 0.846272 seconds\n",
      "        |_CBEventType.SUB_QUESTION -> 3.18354 seconds\n",
      "          |_CBEventType.TEMPLATING -> 0.0 seconds\n",
      "          |_CBEventType.LLM -> 2.071112 seconds\n",
      "          |_CBEventType.SYNTHESIZE -> 0.724544 seconds\n",
      "            |_CBEventType.TEMPLATING -> 0.0 seconds\n",
      "            |_CBEventType.LLM -> 0.71758 seconds\n",
      "        |_CBEventType.SYNTHESIZE -> 0.867998 seconds\n",
      "          |_CBEventType.TEMPLATING -> 0.0 seconds\n",
      "          |_CBEventType.LLM -> 0.861 seconds\n",
      "**********\n"
     ]
    },
    {
     "data": {
      "text/plain": [
       "Response(response='The case_id with the highest credit limit is 839373. There is only 1 person with this case_id.', source_nodes=[NodeWithScore(node=TextNode(id_='b0a9f008-cf2e-4560-b334-513f7e3d939e', embedding=None, metadata={}, excluded_embed_metadata_keys=[], excluded_llm_metadata_keys=[], relationships={}, text='Sub question: What is the case_id with the highest credit limit?\\nResponse: The case_id with the highest credit limit is 839373, with a credit limit of 796,800,000.0.', start_char_idx=None, end_char_idx=None, text_template='{metadata_str}\\n\\n{content}', metadata_template='{key}: {value}', metadata_seperator='\\n'), score=None), NodeWithScore(node=TextNode(id_='eec3c80a-5850-4db8-8887-a6928907e7ca', embedding=None, metadata={}, excluded_embed_metadata_keys=[], excluded_llm_metadata_keys=[], relationships={}, text='Sub question: How many persons have the case_id with the highest credit limit?\\nResponse: There is only 1 person with the case_id that has the highest credit limit.', start_char_idx=None, end_char_idx=None, text_template='{metadata_str}\\n\\n{content}', metadata_template='{key}: {value}', metadata_seperator='\\n'), score=None), NodeWithScore(node=TextNode(id_='da056c0b-258f-459f-ac3f-7a4f6ab0e7ac', embedding=None, metadata={}, excluded_embed_metadata_keys=[], excluded_llm_metadata_keys=[], relationships={}, text='[(839373, 796800000.0)]', start_char_idx=None, end_char_idx=None, text_template='{metadata_str}\\n\\n{content}', metadata_template='{key}: {value}', metadata_seperator='\\n'), score=None), NodeWithScore(node=TextNode(id_='84c0b4be-cee8-46fc-9ec7-3fb960e80efb', embedding=None, metadata={}, excluded_embed_metadata_keys=[], excluded_llm_metadata_keys=[], relationships={}, text='[(1,)]', start_char_idx=None, end_char_idx=None, text_template='{metadata_str}\\n\\n{content}', metadata_template='{key}: {value}', metadata_seperator='\\n'), score=None)], metadata={'b0a9f008-cf2e-4560-b334-513f7e3d939e': {}, 'eec3c80a-5850-4db8-8887-a6928907e7ca': {}, 'da056c0b-258f-459f-ac3f-7a4f6ab0e7ac': {}, '84c0b4be-cee8-46fc-9ec7-3fb960e80efb': {}, 'selector_result': MultiSelection(selections=[SingleSelection(index=1, reason='The query involves multiple questions and requires running SQL commands to get information from the tables in the database.')])})"
      ]
     },
     "execution_count": 47,
     "metadata": {},
     "output_type": "execute_result"
    }
   ],
   "source": [
    "query_engine.query(\"what is the case_id that has the most credit limit. then what how many person has that case_id\")"
   ]
  },
  {
   "cell_type": "code",
   "execution_count": null,
   "metadata": {},
   "outputs": [],
   "source": []
  }
 ],
 "metadata": {
  "kernelspec": {
   "display_name": "Python 3",
   "language": "python",
   "name": "python3"
  },
  "language_info": {
   "codemirror_mode": {
    "name": "ipython",
    "version": 3
   },
   "file_extension": ".py",
   "mimetype": "text/x-python",
   "name": "python",
   "nbconvert_exporter": "python",
   "pygments_lexer": "ipython3",
   "version": "3.11.9"
  }
 },
 "nbformat": 4,
 "nbformat_minor": 2
}
